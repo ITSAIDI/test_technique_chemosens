{
 "cells": [
  {
   "cell_type": "markdown",
   "id": "3c154a88",
   "metadata": {},
   "source": [
    "# 1.Data cleaning"
   ]
  },
  {
   "cell_type": "markdown",
   "id": "8cd95b91",
   "metadata": {},
   "source": [
    "## 1.1 Loading Data"
   ]
  },
  {
   "cell_type": "code",
   "execution_count": 1,
   "id": "eb38a7a4",
   "metadata": {},
   "outputs": [
    {
     "data": {
      "text/html": [
       "<div>\n",
       "<style scoped>\n",
       "    .dataframe tbody tr th:only-of-type {\n",
       "        vertical-align: middle;\n",
       "    }\n",
       "\n",
       "    .dataframe tbody tr th {\n",
       "        vertical-align: top;\n",
       "    }\n",
       "\n",
       "    .dataframe thead th {\n",
       "        text-align: right;\n",
       "    }\n",
       "</style>\n",
       "<table border=\"1\" class=\"dataframe\">\n",
       "  <thead>\n",
       "    <tr style=\"text-align: right;\">\n",
       "      <th></th>\n",
       "      <th>Désignation commerciale</th>\n",
       "      <th>Catégorie de référence</th>\n",
       "    </tr>\n",
       "  </thead>\n",
       "  <tbody>\n",
       "    <tr>\n",
       "      <th>0</th>\n",
       "      <td>Lait au chocolat</td>\n",
       "      <td>Chocolat chaud</td>\n",
       "    </tr>\n",
       "    <tr>\n",
       "      <th>1</th>\n",
       "      <td>Poisson en chocolat</td>\n",
       "      <td>Produits de chocolat (cacao)</td>\n",
       "    </tr>\n",
       "    <tr>\n",
       "      <th>2</th>\n",
       "      <td>Chocapic en poudre</td>\n",
       "      <td>Poudre de cacao</td>\n",
       "    </tr>\n",
       "    <tr>\n",
       "      <th>3</th>\n",
       "      <td>Cola light sans bulles</td>\n",
       "      <td>Boissons au cola, caféiniques, faibles en calo...</td>\n",
       "    </tr>\n",
       "    <tr>\n",
       "      <th>4</th>\n",
       "      <td>Jus de pomme bio</td>\n",
       "      <td>Jus de pomme</td>\n",
       "    </tr>\n",
       "    <tr>\n",
       "      <th>...</th>\n",
       "      <td>...</td>\n",
       "      <td>...</td>\n",
       "    </tr>\n",
       "    <tr>\n",
       "      <th>95</th>\n",
       "      <td>Crème brûlée vanille</td>\n",
       "      <td>Collations, desserts et autres aliments</td>\n",
       "    </tr>\n",
       "    <tr>\n",
       "      <th>96</th>\n",
       "      <td>Macaron framboise</td>\n",
       "      <td>Pâtisseries et gâteaux</td>\n",
       "    </tr>\n",
       "    <tr>\n",
       "      <th>97</th>\n",
       "      <td>Tarte tatin</td>\n",
       "      <td>Tarte aux fruits</td>\n",
       "    </tr>\n",
       "    <tr>\n",
       "      <th>98</th>\n",
       "      <td>Clafoutis aux cerises</td>\n",
       "      <td>Gâteau aux fruits</td>\n",
       "    </tr>\n",
       "    <tr>\n",
       "      <th>99</th>\n",
       "      <td>Panna cotta fruits rouges</td>\n",
       "      <td>Collations, desserts et autres aliments</td>\n",
       "    </tr>\n",
       "  </tbody>\n",
       "</table>\n",
       "<p>100 rows × 2 columns</p>\n",
       "</div>"
      ],
      "text/plain": [
       "      Désignation commerciale  \\\n",
       "0            Lait au chocolat   \n",
       "1         Poisson en chocolat   \n",
       "2          Chocapic en poudre   \n",
       "3      Cola light sans bulles   \n",
       "4            Jus de pomme bio   \n",
       "..                        ...   \n",
       "95       Crème brûlée vanille   \n",
       "96          Macaron framboise   \n",
       "97                Tarte tatin   \n",
       "98      Clafoutis aux cerises   \n",
       "99  Panna cotta fruits rouges   \n",
       "\n",
       "                               Catégorie de référence  \n",
       "0                                      Chocolat chaud  \n",
       "1                        Produits de chocolat (cacao)  \n",
       "2                                     Poudre de cacao  \n",
       "3   Boissons au cola, caféiniques, faibles en calo...  \n",
       "4                                        Jus de pomme  \n",
       "..                                                ...  \n",
       "95            Collations, desserts et autres aliments  \n",
       "96                             Pâtisseries et gâteaux  \n",
       "97                                   Tarte aux fruits  \n",
       "98                                  Gâteau aux fruits  \n",
       "99            Collations, desserts et autres aliments  \n",
       "\n",
       "[100 rows x 2 columns]"
      ]
     },
     "execution_count": 1,
     "metadata": {},
     "output_type": "execute_result"
    }
   ],
   "source": [
    "# We load our train data into a dataFrame\n",
    "\n",
    "import pandas as pd\n",
    "\n",
    "trainDf = pd.read_excel('resources/referentiel_foodex.xlsx',sheet_name='Feuil1')\n",
    "trainDf\n"
   ]
  },
  {
   "cell_type": "markdown",
   "id": "56911e94",
   "metadata": {},
   "source": [
    "## 1.2 Cleaning steps"
   ]
  },
  {
   "cell_type": "markdown",
   "id": "7fb97173",
   "metadata": {},
   "source": [
    "### Duplicated rows"
   ]
  },
  {
   "cell_type": "code",
   "execution_count": 2,
   "id": "10cccf82",
   "metadata": {},
   "outputs": [
    {
     "data": {
      "text/html": [
       "<div>\n",
       "<style scoped>\n",
       "    .dataframe tbody tr th:only-of-type {\n",
       "        vertical-align: middle;\n",
       "    }\n",
       "\n",
       "    .dataframe tbody tr th {\n",
       "        vertical-align: top;\n",
       "    }\n",
       "\n",
       "    .dataframe thead th {\n",
       "        text-align: right;\n",
       "    }\n",
       "</style>\n",
       "<table border=\"1\" class=\"dataframe\">\n",
       "  <thead>\n",
       "    <tr style=\"text-align: right;\">\n",
       "      <th></th>\n",
       "      <th>Désignation commerciale</th>\n",
       "      <th>Catégorie de référence</th>\n",
       "    </tr>\n",
       "  </thead>\n",
       "  <tbody>\n",
       "  </tbody>\n",
       "</table>\n",
       "</div>"
      ],
      "text/plain": [
       "Empty DataFrame\n",
       "Columns: [Désignation commerciale, Catégorie de référence]\n",
       "Index: []"
      ]
     },
     "execution_count": 2,
     "metadata": {},
     "output_type": "execute_result"
    }
   ],
   "source": [
    "# Check if there are duplicated rows \n",
    "# No duplicated rows \n",
    "\n",
    "duplicates = trainDf[trainDf.duplicated()]\n",
    "duplicates"
   ]
  },
  {
   "cell_type": "markdown",
   "id": "8c3565fb",
   "metadata": {},
   "source": [
    "### Missing values"
   ]
  },
  {
   "cell_type": "code",
   "execution_count": 3,
   "metadata": {},
   "outputs": [
    {
     "data": {
      "text/plain": [
       "Désignation commerciale    0\n",
       "Catégorie de référence     3\n",
       "dtype: int64"
      ]
     },
     "execution_count": 3,
     "metadata": {},
     "output_type": "execute_result"
    }
   ],
   "source": [
    "# How much missing values\n",
    "trainDf.isnull().sum()"
   ]
  },
  {
   "cell_type": "code",
   "execution_count": 5,
   "id": "0f01bf84",
   "metadata": {},
   "outputs": [
    {
     "data": {
      "text/html": [
       "<div>\n",
       "<style scoped>\n",
       "    .dataframe tbody tr th:only-of-type {\n",
       "        vertical-align: middle;\n",
       "    }\n",
       "\n",
       "    .dataframe tbody tr th {\n",
       "        vertical-align: top;\n",
       "    }\n",
       "\n",
       "    .dataframe thead th {\n",
       "        text-align: right;\n",
       "    }\n",
       "</style>\n",
       "<table border=\"1\" class=\"dataframe\">\n",
       "  <thead>\n",
       "    <tr style=\"text-align: right;\">\n",
       "      <th></th>\n",
       "      <th>Désignation commerciale</th>\n",
       "      <th>Catégorie de référence</th>\n",
       "    </tr>\n",
       "  </thead>\n",
       "  <tbody>\n",
       "    <tr>\n",
       "      <th>0</th>\n",
       "      <td>Lait au chocolat</td>\n",
       "      <td>Chocolat chaud</td>\n",
       "    </tr>\n",
       "    <tr>\n",
       "      <th>1</th>\n",
       "      <td>Poisson en chocolat</td>\n",
       "      <td>Produits de chocolat (cacao)</td>\n",
       "    </tr>\n",
       "    <tr>\n",
       "      <th>2</th>\n",
       "      <td>Chocapic en poudre</td>\n",
       "      <td>Poudre de cacao</td>\n",
       "    </tr>\n",
       "    <tr>\n",
       "      <th>3</th>\n",
       "      <td>Cola light sans bulles</td>\n",
       "      <td>Boissons au cola, caféiniques, faibles en calo...</td>\n",
       "    </tr>\n",
       "    <tr>\n",
       "      <th>4</th>\n",
       "      <td>Jus de pomme bio</td>\n",
       "      <td>Jus de pomme</td>\n",
       "    </tr>\n",
       "    <tr>\n",
       "      <th>...</th>\n",
       "      <td>...</td>\n",
       "      <td>...</td>\n",
       "    </tr>\n",
       "    <tr>\n",
       "      <th>95</th>\n",
       "      <td>Crème brûlée vanille</td>\n",
       "      <td>Collations, desserts et autres aliments</td>\n",
       "    </tr>\n",
       "    <tr>\n",
       "      <th>96</th>\n",
       "      <td>Macaron framboise</td>\n",
       "      <td>Pâtisseries et gâteaux</td>\n",
       "    </tr>\n",
       "    <tr>\n",
       "      <th>97</th>\n",
       "      <td>Tarte tatin</td>\n",
       "      <td>Tarte aux fruits</td>\n",
       "    </tr>\n",
       "    <tr>\n",
       "      <th>98</th>\n",
       "      <td>Clafoutis aux cerises</td>\n",
       "      <td>Gâteau aux fruits</td>\n",
       "    </tr>\n",
       "    <tr>\n",
       "      <th>99</th>\n",
       "      <td>Panna cotta fruits rouges</td>\n",
       "      <td>Collations, desserts et autres aliments</td>\n",
       "    </tr>\n",
       "  </tbody>\n",
       "</table>\n",
       "<p>97 rows × 2 columns</p>\n",
       "</div>"
      ],
      "text/plain": [
       "      Désignation commerciale  \\\n",
       "0            Lait au chocolat   \n",
       "1         Poisson en chocolat   \n",
       "2          Chocapic en poudre   \n",
       "3      Cola light sans bulles   \n",
       "4            Jus de pomme bio   \n",
       "..                        ...   \n",
       "95       Crème brûlée vanille   \n",
       "96          Macaron framboise   \n",
       "97                Tarte tatin   \n",
       "98      Clafoutis aux cerises   \n",
       "99  Panna cotta fruits rouges   \n",
       "\n",
       "                               Catégorie de référence  \n",
       "0                                      Chocolat chaud  \n",
       "1                        Produits de chocolat (cacao)  \n",
       "2                                     Poudre de cacao  \n",
       "3   Boissons au cola, caféiniques, faibles en calo...  \n",
       "4                                        Jus de pomme  \n",
       "..                                                ...  \n",
       "95            Collations, desserts et autres aliments  \n",
       "96                             Pâtisseries et gâteaux  \n",
       "97                                   Tarte aux fruits  \n",
       "98                                  Gâteau aux fruits  \n",
       "99            Collations, desserts et autres aliments  \n",
       "\n",
       "[97 rows x 2 columns]"
      ]
     },
     "execution_count": 5,
     "metadata": {},
     "output_type": "execute_result"
    }
   ],
   "source": [
    "# There 3 missing categories, for the moment we just remove them \n",
    "#-> (any row that has a missing value in a column will be dropped)\n",
    "\n",
    "trainDf_Cleaned = trainDf.dropna()\n",
    "trainDf_Cleaned"
   ]
  },
  {
   "cell_type": "markdown",
   "id": "ad7a6035",
   "metadata": {},
   "source": [
    "### Special caracters and Lowercasing"
   ]
  },
  {
   "cell_type": "code",
   "execution_count": 6,
   "id": "c558c269",
   "metadata": {},
   "outputs": [],
   "source": [
    "import re\n",
    "\n",
    "def cleanText(text):\n",
    "    text = re.sub(r\"[^a-zA-Z0-9àâäéèêëîïôöùûüÿçœæÀÂÄÉÈÊËÎÏÔÖÙÛÜŸÇŒÆ\\s]\",\" \",text) # Replace special caracters with white space.\n",
    "    return text.lower() # lowercase"
   ]
  },
  {
   "cell_type": "code",
   "execution_count": 7,
   "id": "5308de26",
   "metadata": {},
   "outputs": [
    {
     "data": {
      "text/html": [
       "<div>\n",
       "<style scoped>\n",
       "    .dataframe tbody tr th:only-of-type {\n",
       "        vertical-align: middle;\n",
       "    }\n",
       "\n",
       "    .dataframe tbody tr th {\n",
       "        vertical-align: top;\n",
       "    }\n",
       "\n",
       "    .dataframe thead th {\n",
       "        text-align: right;\n",
       "    }\n",
       "</style>\n",
       "<table border=\"1\" class=\"dataframe\">\n",
       "  <thead>\n",
       "    <tr style=\"text-align: right;\">\n",
       "      <th></th>\n",
       "      <th>Désignation commerciale</th>\n",
       "      <th>Catégorie de référence</th>\n",
       "    </tr>\n",
       "  </thead>\n",
       "  <tbody>\n",
       "    <tr>\n",
       "      <th>0</th>\n",
       "      <td>lait au chocolat</td>\n",
       "      <td>chocolat chaud</td>\n",
       "    </tr>\n",
       "    <tr>\n",
       "      <th>1</th>\n",
       "      <td>poisson en chocolat</td>\n",
       "      <td>produits de chocolat  cacao</td>\n",
       "    </tr>\n",
       "    <tr>\n",
       "      <th>2</th>\n",
       "      <td>chocapic en poudre</td>\n",
       "      <td>poudre de cacao</td>\n",
       "    </tr>\n",
       "    <tr>\n",
       "      <th>3</th>\n",
       "      <td>cola light sans bulles</td>\n",
       "      <td>boissons au cola  caféiniques  faibles en calo...</td>\n",
       "    </tr>\n",
       "    <tr>\n",
       "      <th>4</th>\n",
       "      <td>jus de pomme bio</td>\n",
       "      <td>jus de pomme</td>\n",
       "    </tr>\n",
       "    <tr>\n",
       "      <th>...</th>\n",
       "      <td>...</td>\n",
       "      <td>...</td>\n",
       "    </tr>\n",
       "    <tr>\n",
       "      <th>95</th>\n",
       "      <td>crème brûlée vanille</td>\n",
       "      <td>collations  desserts et autres aliments</td>\n",
       "    </tr>\n",
       "    <tr>\n",
       "      <th>96</th>\n",
       "      <td>macaron framboise</td>\n",
       "      <td>pâtisseries et gâteaux</td>\n",
       "    </tr>\n",
       "    <tr>\n",
       "      <th>97</th>\n",
       "      <td>tarte tatin</td>\n",
       "      <td>tarte aux fruits</td>\n",
       "    </tr>\n",
       "    <tr>\n",
       "      <th>98</th>\n",
       "      <td>clafoutis aux cerises</td>\n",
       "      <td>gâteau aux fruits</td>\n",
       "    </tr>\n",
       "    <tr>\n",
       "      <th>99</th>\n",
       "      <td>panna cotta fruits rouges</td>\n",
       "      <td>collations  desserts et autres aliments</td>\n",
       "    </tr>\n",
       "  </tbody>\n",
       "</table>\n",
       "<p>97 rows × 2 columns</p>\n",
       "</div>"
      ],
      "text/plain": [
       "      Désignation commerciale  \\\n",
       "0            lait au chocolat   \n",
       "1         poisson en chocolat   \n",
       "2          chocapic en poudre   \n",
       "3      cola light sans bulles   \n",
       "4            jus de pomme bio   \n",
       "..                        ...   \n",
       "95       crème brûlée vanille   \n",
       "96          macaron framboise   \n",
       "97                tarte tatin   \n",
       "98      clafoutis aux cerises   \n",
       "99  panna cotta fruits rouges   \n",
       "\n",
       "                               Catégorie de référence  \n",
       "0                                      chocolat chaud  \n",
       "1                        produits de chocolat  cacao   \n",
       "2                                     poudre de cacao  \n",
       "3   boissons au cola  caféiniques  faibles en calo...  \n",
       "4                                        jus de pomme  \n",
       "..                                                ...  \n",
       "95            collations  desserts et autres aliments  \n",
       "96                             pâtisseries et gâteaux  \n",
       "97                                   tarte aux fruits  \n",
       "98                                  gâteau aux fruits  \n",
       "99            collations  desserts et autres aliments  \n",
       "\n",
       "[97 rows x 2 columns]"
      ]
     },
     "execution_count": 7,
     "metadata": {},
     "output_type": "execute_result"
    }
   ],
   "source": [
    "trainDf_Cleaned = trainDf_Cleaned.map(cleanText)\n",
    "trainDf_Cleaned"
   ]
  },
  {
   "cell_type": "markdown",
   "id": "747a4104",
   "metadata": {},
   "source": [
    "### Save the cleaned dataframe"
   ]
  },
  {
   "cell_type": "code",
   "execution_count": 10,
   "id": "774f8d7a",
   "metadata": {},
   "outputs": [],
   "source": [
    "# Before saving we need to rename columns\n",
    "\n",
    "trainDf_Cleaned = trainDf_Cleaned.rename(columns={\n",
    "    'Désignation commerciale':'Product_Name',\n",
    "    'Catégorie de référence':'Raw_Category'})\n",
    "\n",
    "trainDf_Cleaned.to_excel('data/train.xlsx',index=False)"
   ]
  },
  {
   "cell_type": "markdown",
   "id": "2aab18cc",
   "metadata": {},
   "source": [
    "## 1.3 Working on Categories"
   ]
  },
  {
   "cell_type": "code",
   "execution_count": null,
   "id": "abf0cc27",
   "metadata": {},
   "outputs": [],
   "source": []
  },
  {
   "cell_type": "code",
   "execution_count": null,
   "metadata": {},
   "outputs": [],
   "source": []
  },
  {
   "cell_type": "code",
   "execution_count": null,
   "id": "fb763215",
   "metadata": {},
   "outputs": [],
   "source": []
  },
  {
   "cell_type": "code",
   "execution_count": null,
   "id": "04a2bf99",
   "metadata": {},
   "outputs": [],
   "source": []
  },
  {
   "cell_type": "code",
   "execution_count": null,
   "metadata": {},
   "outputs": [],
   "source": []
  }
 ],
 "metadata": {
  "kernelspec": {
   "display_name": "test-technique-chemosens",
   "language": "python",
   "name": "python3"
  },
  "language_info": {
   "codemirror_mode": {
    "name": "ipython",
    "version": 3
   },
   "file_extension": ".py",
   "mimetype": "text/x-python",
   "name": "python",
   "nbconvert_exporter": "python",
   "pygments_lexer": "ipython3",
   "version": "3.10.16"
  }
 },
 "nbformat": 4,
 "nbformat_minor": 5
}
