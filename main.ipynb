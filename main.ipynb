{
 "cells": [
  {
   "cell_type": "markdown",
   "id": "3c154a88",
   "metadata": {},
   "source": [
    "# 1.Data cleaning"
   ]
  },
  {
   "cell_type": "markdown",
   "id": "24004826",
   "metadata": {},
   "source": [
    "## 1.1 Setup"
   ]
  },
  {
   "cell_type": "code",
   "execution_count": null,
   "id": "efc31caf",
   "metadata": {},
   "outputs": [],
   "source": [
    "import re\n",
    "import pandas as pd\n",
    "from nltk.corpus import stopwords\n",
    "import nltk\n",
    "import spacy"
   ]
  },
  {
   "cell_type": "markdown",
   "id": "8cd95b91",
   "metadata": {},
   "source": [
    "## 1.2 Loading Data"
   ]
  },
  {
   "cell_type": "code",
   "execution_count": null,
   "id": "eb38a7a4",
   "metadata": {},
   "outputs": [],
   "source": [
    "# We load our train data into a dataFrame\n",
    "trainDf = pd.read_excel('resources/referentiel_foodex.xlsx',sheet_name='Feuil1')\n",
    "trainDf\n"
   ]
  },
  {
   "cell_type": "markdown",
   "id": "56911e94",
   "metadata": {},
   "source": [
    "## 1.3 Cleaning steps"
   ]
  },
  {
   "cell_type": "markdown",
   "id": "7fb97173",
   "metadata": {},
   "source": [
    "### Duplicated rows"
   ]
  },
  {
   "cell_type": "code",
   "execution_count": null,
   "id": "10cccf82",
   "metadata": {},
   "outputs": [],
   "source": [
    "# Check if there are duplicated rows \n",
    "# No duplicated rows \n",
    "\n",
    "duplicates = trainDf[trainDf.duplicated()]\n",
    "duplicates"
   ]
  },
  {
   "cell_type": "markdown",
   "id": "8c3565fb",
   "metadata": {},
   "source": [
    "### Missing values"
   ]
  },
  {
   "cell_type": "code",
   "execution_count": null,
   "metadata": {},
   "outputs": [],
   "source": [
    "# How much missing values\n",
    "trainDf.isnull().sum()"
   ]
  },
  {
   "cell_type": "code",
   "execution_count": null,
   "id": "0f01bf84",
   "metadata": {},
   "outputs": [],
   "source": [
    "# There 3 missing categories, for the moment we just remove them \n",
    "#-> (any row that has a missing value in a column will be dropped)\n",
    "\n",
    "trainDf_Cleaned = trainDf.dropna()\n",
    "trainDf_Cleaned = trainDf_Cleaned.rename(columns={\n",
    "    'Désignation commerciale':'Product',\n",
    "    'Catégorie de référence':'Category'})\n",
    "trainDf_Cleaned"
   ]
  },
  {
   "cell_type": "markdown",
   "id": "ec611cb6",
   "metadata": {},
   "source": [
    "### Scientific names handeling"
   ]
  },
  {
   "cell_type": "code",
   "execution_count": null,
   "id": "f08b6cd8",
   "metadata": {},
   "outputs": [],
   "source": [
    "def remove_scientific_names(text):\n",
    "    # Use regex to find and remove all text between parentheses (scientific names)\n",
    "    cleaned_text = re.sub(r'\\(.*?\\)', '', text)\n",
    "    return cleaned_text"
   ]
  },
  {
   "cell_type": "code",
   "execution_count": null,
   "id": "4a023f03",
   "metadata": {},
   "outputs": [],
   "source": [
    "trainDf_Cleaned[\"Product_clean\"] = trainDf_Cleaned[\"Product\"].apply(remove_scientific_names)\n",
    "trainDf_Cleaned[\"Category_clean\"] = trainDf_Cleaned[\"Category\"].apply(remove_scientific_names)"
   ]
  },
  {
   "cell_type": "code",
   "execution_count": null,
   "id": "7f1d65cb",
   "metadata": {},
   "outputs": [],
   "source": [
    "trainDf_Cleaned"
   ]
  },
  {
   "cell_type": "markdown",
   "id": "ad7a6035",
   "metadata": {},
   "source": [
    "### Special caracters and Lowercasing"
   ]
  },
  {
   "cell_type": "code",
   "execution_count": null,
   "id": "c558c269",
   "metadata": {},
   "outputs": [],
   "source": [
    "def cleanText(text):\n",
    "    text = re.sub(r\"[^a-zA-Z0-9àâäéèêëîïôöùûüÿçœæÀÂÄÉÈÊËÎÏÔÖÙÛÜŸÇŒÆ\\s]\",\" \",text) # Replace special caracters with white space.\n",
    "    return text.lower() # lowercase"
   ]
  },
  {
   "cell_type": "code",
   "execution_count": null,
   "id": "5308de26",
   "metadata": {},
   "outputs": [],
   "source": [
    "trainDf_Cleaned[\"Product_clean\"] = trainDf_Cleaned[\"Product_clean\"].apply(cleanText)\n",
    "trainDf_Cleaned[\"Category_clean\"] = trainDf_Cleaned[\"Category_clean\"].apply(cleanText)\n",
    "trainDf_Cleaned"
   ]
  },
  {
   "cell_type": "markdown",
   "id": "17372f9e",
   "metadata": {},
   "source": [
    "### Stopwords removing "
   ]
  },
  {
   "cell_type": "code",
   "execution_count": null,
   "id": "daca21db",
   "metadata": {},
   "outputs": [],
   "source": [
    "# Download French stopwords if not already\n",
    "nltk.download('stopwords')\n",
    "french_stopwords = set(stopwords.words('french'))\n",
    "len(french_stopwords)"
   ]
  },
  {
   "cell_type": "code",
   "execution_count": null,
   "id": "a79aee50",
   "metadata": {},
   "outputs": [],
   "source": [
    "def remove_french_stopwords(text):\n",
    "    words = re.findall(r'\\b\\w+\\b', text.lower())\n",
    "    return ' '.join([w for w in words if w not in french_stopwords])\n"
   ]
  },
  {
   "cell_type": "code",
   "execution_count": null,
   "id": "cf9c4616",
   "metadata": {},
   "outputs": [],
   "source": [
    "# Apply to both columns\n",
    "trainDf_Cleaned['Product_clean'] = trainDf_Cleaned['Product_clean'].apply(remove_french_stopwords)\n",
    "trainDf_Cleaned['Category_clean'] = trainDf_Cleaned['Category_clean'].apply(remove_french_stopwords)\n",
    "trainDf_Cleaned"
   ]
  },
  {
   "cell_type": "markdown",
   "id": "456994ac",
   "metadata": {},
   "source": [
    "### Keep only Nouns"
   ]
  },
  {
   "cell_type": "markdown",
   "id": "d186ae8c",
   "metadata": {},
   "source": [
    "use the following command to install the model :\n",
    "\n",
    "```bash\n",
    "uv run python -m spacy download fr_dep_news_trf \n",
    "```"
   ]
  },
  {
   "cell_type": "code",
   "execution_count": null,
   "id": "1f30706c",
   "metadata": {},
   "outputs": [],
   "source": [
    "nlp = spacy.load(\"fr_dep_news_trf\")"
   ]
  },
  {
   "cell_type": "code",
   "execution_count": null,
   "id": "50db4102",
   "metadata": {},
   "outputs": [],
   "source": [
    "def keep_nouns(text):\n",
    "    doc = nlp(text)\n",
    "    cleanedText = \" \".join([token.text for token in doc if token.pos_ in [\"NOUN\",\"PROPN\"] ])\n",
    "    if len(cleanedText) > 0:\n",
    "        return cleanedText\n",
    "    return text"
   ]
  },
  {
   "cell_type": "code",
   "execution_count": null,
   "id": "47991099",
   "metadata": {},
   "outputs": [],
   "source": [
    "# Example \n",
    "\n",
    "print(keep_nouns(\"boissons au cola caféiniques faibles en \"))\n",
    "\n",
    "doc = nlp(\"boissons au cola caféiniques faibles en \")\n",
    "for token in doc:\n",
    "    print(token.text, token.pos_)"
   ]
  },
  {
   "cell_type": "code",
   "execution_count": null,
   "id": "d2638458",
   "metadata": {},
   "outputs": [],
   "source": [
    "trainDf_Cleaned[\"Product_clean\"] = trainDf_Cleaned[\"Product_clean\"].apply(keep_nouns)\n",
    "trainDf_Cleaned[\"Category_clean\"] = trainDf_Cleaned[\"Category_clean\"].apply(keep_nouns)"
   ]
  },
  {
   "cell_type": "code",
   "execution_count": null,
   "id": "5c18d215",
   "metadata": {},
   "outputs": [],
   "source": [
    "trainDf_Cleaned"
   ]
  },
  {
   "cell_type": "markdown",
   "id": "c0581fb0",
   "metadata": {},
   "source": [
    "### Redundant words handling"
   ]
  },
  {
   "cell_type": "code",
   "execution_count": null,
   "id": "9c9d8e6d",
   "metadata": {},
   "outputs": [],
   "source": [
    "def remove_redundant_words(text):\n",
    "    words = text.split()\n",
    "    unique_words = set(words)\n",
    "    cleaned_text = ' '.join(sorted(unique_words, key=words.index))\n",
    "    return cleaned_text"
   ]
  },
  {
   "cell_type": "code",
   "execution_count": null,
   "id": "f94dacd6",
   "metadata": {},
   "outputs": [],
   "source": [
    "trainDf_Cleaned[\"Product_clean\"] = trainDf_Cleaned[\"Product_clean\"].apply(remove_redundant_words)\n",
    "trainDf_Cleaned[\"Category_clean\"] = trainDf_Cleaned[\"Category_clean\"].apply(remove_redundant_words)\n",
    "trainDf_Cleaned"
   ]
  },
  {
   "cell_type": "markdown",
   "id": "747a4104",
   "metadata": {},
   "source": [
    "### Save the cleaned dataframe"
   ]
  },
  {
   "cell_type": "code",
   "execution_count": null,
   "id": "774f8d7a",
   "metadata": {},
   "outputs": [],
   "source": [
    "trainDf_Cleaned.iloc[:, -2:].to_excel('data/train_cleaned.xlsx',index=False)"
   ]
  },
  {
   "cell_type": "markdown",
   "id": "0fb43da1",
   "metadata": {},
   "source": [
    "# 2.Classification"
   ]
  },
  {
   "cell_type": "markdown",
   "id": "74e11300",
   "metadata": {},
   "source": [
    "## 2.1 Keywords based Pre-Selection"
   ]
  },
  {
   "cell_type": "markdown",
   "id": "9c046c1c",
   "metadata": {},
   "source": [
    "### Setup"
   ]
  },
  {
   "cell_type": "code",
   "execution_count": 1,
   "metadata": {},
   "outputs": [],
   "source": [
    "import pandas as pd"
   ]
  },
  {
   "cell_type": "code",
   "execution_count": 2,
   "id": "c662b020",
   "metadata": {},
   "outputs": [
    {
     "data": {
      "text/html": [
       "<div>\n",
       "<style scoped>\n",
       "    .dataframe tbody tr th:only-of-type {\n",
       "        vertical-align: middle;\n",
       "    }\n",
       "\n",
       "    .dataframe tbody tr th {\n",
       "        vertical-align: top;\n",
       "    }\n",
       "\n",
       "    .dataframe thead th {\n",
       "        text-align: right;\n",
       "    }\n",
       "</style>\n",
       "<table border=\"1\" class=\"dataframe\">\n",
       "  <thead>\n",
       "    <tr style=\"text-align: right;\">\n",
       "      <th></th>\n",
       "      <th>Product_clean</th>\n",
       "      <th>Category_clean</th>\n",
       "    </tr>\n",
       "  </thead>\n",
       "  <tbody>\n",
       "    <tr>\n",
       "      <th>0</th>\n",
       "      <td>lait chocolat</td>\n",
       "      <td>chocolat</td>\n",
       "    </tr>\n",
       "    <tr>\n",
       "      <th>1</th>\n",
       "      <td>poisson chocolat</td>\n",
       "      <td>produits chocolat</td>\n",
       "    </tr>\n",
       "    <tr>\n",
       "      <th>2</th>\n",
       "      <td>chocapic poudre</td>\n",
       "      <td>poudre cacao</td>\n",
       "    </tr>\n",
       "    <tr>\n",
       "      <th>3</th>\n",
       "      <td>cola bulles</td>\n",
       "      <td>boissons calories</td>\n",
       "    </tr>\n",
       "    <tr>\n",
       "      <th>4</th>\n",
       "      <td>jus pomme</td>\n",
       "      <td>jus pomme</td>\n",
       "    </tr>\n",
       "    <tr>\n",
       "      <th>...</th>\n",
       "      <td>...</td>\n",
       "      <td>...</td>\n",
       "    </tr>\n",
       "    <tr>\n",
       "      <th>92</th>\n",
       "      <td>crème vanille</td>\n",
       "      <td>collations desserts aliments</td>\n",
       "    </tr>\n",
       "    <tr>\n",
       "      <th>93</th>\n",
       "      <td>macaron framboise</td>\n",
       "      <td>pâtisseries gâteaux</td>\n",
       "    </tr>\n",
       "    <tr>\n",
       "      <th>94</th>\n",
       "      <td>tarte</td>\n",
       "      <td>tarte fruits</td>\n",
       "    </tr>\n",
       "    <tr>\n",
       "      <th>95</th>\n",
       "      <td>clafoutis cerises</td>\n",
       "      <td>gâteau fruits</td>\n",
       "    </tr>\n",
       "    <tr>\n",
       "      <th>96</th>\n",
       "      <td>panna cotta fruits</td>\n",
       "      <td>collations desserts aliments</td>\n",
       "    </tr>\n",
       "  </tbody>\n",
       "</table>\n",
       "<p>97 rows × 2 columns</p>\n",
       "</div>"
      ],
      "text/plain": [
       "         Product_clean                Category_clean\n",
       "0        lait chocolat                      chocolat\n",
       "1     poisson chocolat             produits chocolat\n",
       "2      chocapic poudre                  poudre cacao\n",
       "3          cola bulles             boissons calories\n",
       "4            jus pomme                     jus pomme\n",
       "..                 ...                           ...\n",
       "92       crème vanille  collations desserts aliments\n",
       "93   macaron framboise           pâtisseries gâteaux\n",
       "94               tarte                  tarte fruits\n",
       "95   clafoutis cerises                 gâteau fruits\n",
       "96  panna cotta fruits  collations desserts aliments\n",
       "\n",
       "[97 rows x 2 columns]"
      ]
     },
     "execution_count": 2,
     "metadata": {},
     "output_type": "execute_result"
    }
   ],
   "source": [
    "trainDf = pd.read_excel('data/train_cleaned.xlsx')\n",
    "trainDf\n"
   ]
  },
  {
   "cell_type": "markdown",
   "id": "cde597d5",
   "metadata": {},
   "source": [
    "### Get Candidates"
   ]
  },
  {
   "cell_type": "code",
   "execution_count": 3,
   "metadata": {},
   "outputs": [],
   "source": [
    "def get_Candidates(productName):\n",
    "    categories = trainDf['Category_clean'].tolist()\n",
    "    candidates = set()\n",
    "    keywords = productName.strip().split()\n",
    "    for keyword in keywords:\n",
    "        for category in categories:\n",
    "            if keyword in category.strip().split():\n",
    "                candidates.add(category)\n",
    "    return list(candidates)\n",
    "\n",
    "def runAll():\n",
    "    products = trainDf['Product_clean'].tolist()\n",
    "    candidates_list = []\n",
    "    for product in products:\n",
    "        candidates = get_Candidates(product)\n",
    "        candidates_list.append(candidates)\n",
    "    trainDf['Candidate_categories'] = candidates_list\n",
    "    return trainDf"
   ]
  },
  {
   "cell_type": "code",
   "execution_count": 4,
   "metadata": {},
   "outputs": [
    {
     "data": {
      "text/plain": [
       "['purée pomme terre', 'pomme terre', 'chips pommes terre']"
      ]
     },
     "execution_count": 4,
     "metadata": {},
     "output_type": "execute_result"
    }
   ],
   "source": [
    "# Example\n",
    "get_Candidates(\"purée pommes terre\")"
   ]
  },
  {
   "cell_type": "code",
   "execution_count": 5,
   "id": "e8c83e32",
   "metadata": {},
   "outputs": [],
   "source": [
    "train_with_candidates = runAll()"
   ]
  },
  {
   "cell_type": "markdown",
   "id": "682d290f",
   "metadata": {},
   "source": [
    "### Set predictions"
   ]
  },
  {
   "cell_type": "markdown",
   "id": "73c48095",
   "metadata": {},
   "source": [
    "If a product has only one candidate, there is no need for the refinement step, as the predicted category is already determined."
   ]
  },
  {
   "cell_type": "code",
   "execution_count": 6,
   "metadata": {},
   "outputs": [
    {
     "data": {
      "text/html": [
       "<div>\n",
       "<style scoped>\n",
       "    .dataframe tbody tr th:only-of-type {\n",
       "        vertical-align: middle;\n",
       "    }\n",
       "\n",
       "    .dataframe tbody tr th {\n",
       "        vertical-align: top;\n",
       "    }\n",
       "\n",
       "    .dataframe thead th {\n",
       "        text-align: right;\n",
       "    }\n",
       "</style>\n",
       "<table border=\"1\" class=\"dataframe\">\n",
       "  <thead>\n",
       "    <tr style=\"text-align: right;\">\n",
       "      <th></th>\n",
       "      <th>Product_clean</th>\n",
       "      <th>Category_clean</th>\n",
       "      <th>Candidate_categories</th>\n",
       "      <th>Category_predicted</th>\n",
       "    </tr>\n",
       "  </thead>\n",
       "  <tbody>\n",
       "    <tr>\n",
       "      <th>0</th>\n",
       "      <td>lait chocolat</td>\n",
       "      <td>chocolat</td>\n",
       "      <td>[barre chocolat, produits chocolat, chocolat, ...</td>\n",
       "      <td></td>\n",
       "    </tr>\n",
       "    <tr>\n",
       "      <th>1</th>\n",
       "      <td>poisson chocolat</td>\n",
       "      <td>produits chocolat</td>\n",
       "      <td>[barre chocolat, plats base poisson fruits mer...</td>\n",
       "      <td></td>\n",
       "    </tr>\n",
       "    <tr>\n",
       "      <th>2</th>\n",
       "      <td>chocapic poudre</td>\n",
       "      <td>poudre cacao</td>\n",
       "      <td>[poudre cacao]</td>\n",
       "      <td>poudre cacao</td>\n",
       "    </tr>\n",
       "    <tr>\n",
       "      <th>3</th>\n",
       "      <td>cola bulles</td>\n",
       "      <td>boissons calories</td>\n",
       "      <td>[]</td>\n",
       "      <td></td>\n",
       "    </tr>\n",
       "    <tr>\n",
       "      <th>4</th>\n",
       "      <td>jus pomme</td>\n",
       "      <td>jus pomme</td>\n",
       "      <td>[purée pomme terre, pomme, pomme terre, jus po...</td>\n",
       "      <td></td>\n",
       "    </tr>\n",
       "    <tr>\n",
       "      <th>...</th>\n",
       "      <td>...</td>\n",
       "      <td>...</td>\n",
       "      <td>...</td>\n",
       "      <td>...</td>\n",
       "    </tr>\n",
       "    <tr>\n",
       "      <th>92</th>\n",
       "      <td>crème vanille</td>\n",
       "      <td>collations desserts aliments</td>\n",
       "      <td>[gâteau fromage crème]</td>\n",
       "      <td>gâteau fromage crème</td>\n",
       "    </tr>\n",
       "    <tr>\n",
       "      <th>93</th>\n",
       "      <td>macaron framboise</td>\n",
       "      <td>pâtisseries gâteaux</td>\n",
       "      <td>[]</td>\n",
       "      <td></td>\n",
       "    </tr>\n",
       "    <tr>\n",
       "      <th>94</th>\n",
       "      <td>tarte</td>\n",
       "      <td>tarte fruits</td>\n",
       "      <td>[tarte fruits]</td>\n",
       "      <td>tarte fruits</td>\n",
       "    </tr>\n",
       "    <tr>\n",
       "      <th>95</th>\n",
       "      <td>clafoutis cerises</td>\n",
       "      <td>gâteau fruits</td>\n",
       "      <td>[]</td>\n",
       "      <td></td>\n",
       "    </tr>\n",
       "    <tr>\n",
       "      <th>96</th>\n",
       "      <td>panna cotta fruits</td>\n",
       "      <td>collations desserts aliments</td>\n",
       "      <td>[plats base poisson fruits mer, tarte fruits, ...</td>\n",
       "      <td></td>\n",
       "    </tr>\n",
       "  </tbody>\n",
       "</table>\n",
       "<p>97 rows × 4 columns</p>\n",
       "</div>"
      ],
      "text/plain": [
       "         Product_clean                Category_clean  \\\n",
       "0        lait chocolat                      chocolat   \n",
       "1     poisson chocolat             produits chocolat   \n",
       "2      chocapic poudre                  poudre cacao   \n",
       "3          cola bulles             boissons calories   \n",
       "4            jus pomme                     jus pomme   \n",
       "..                 ...                           ...   \n",
       "92       crème vanille  collations desserts aliments   \n",
       "93   macaron framboise           pâtisseries gâteaux   \n",
       "94               tarte                  tarte fruits   \n",
       "95   clafoutis cerises                 gâteau fruits   \n",
       "96  panna cotta fruits  collations desserts aliments   \n",
       "\n",
       "                                 Candidate_categories    Category_predicted  \n",
       "0   [barre chocolat, produits chocolat, chocolat, ...                        \n",
       "1   [barre chocolat, plats base poisson fruits mer...                        \n",
       "2                                      [poudre cacao]          poudre cacao  \n",
       "3                                                  []                        \n",
       "4   [purée pomme terre, pomme, pomme terre, jus po...                        \n",
       "..                                                ...                   ...  \n",
       "92                             [gâteau fromage crème]  gâteau fromage crème  \n",
       "93                                                 []                        \n",
       "94                                     [tarte fruits]          tarte fruits  \n",
       "95                                                 []                        \n",
       "96  [plats base poisson fruits mer, tarte fruits, ...                        \n",
       "\n",
       "[97 rows x 4 columns]"
      ]
     },
     "execution_count": 6,
     "metadata": {},
     "output_type": "execute_result"
    }
   ],
   "source": [
    "train_with_candidates['Category_predicted'] = train_with_candidates['Candidate_categories'].apply(\n",
    "    lambda x: x[0] if len(x) == 1 else ''\n",
    ")\n",
    "train_with_candidates.to_excel('data/train_with_candidates.xlsx',index=False)\n",
    "train_with_candidates"
   ]
  },
  {
   "cell_type": "code",
   "execution_count": null,
   "id": "58b4f7c5",
   "metadata": {},
   "outputs": [],
   "source": []
  },
  {
   "cell_type": "code",
   "execution_count": null,
   "id": "4b2896c2",
   "metadata": {},
   "outputs": [],
   "source": []
  },
  {
   "cell_type": "code",
   "execution_count": null,
   "id": "6375e355",
   "metadata": {},
   "outputs": [],
   "source": []
  }
 ],
 "metadata": {
  "kernelspec": {
   "display_name": "test-technique-chemosens",
   "language": "python",
   "name": "python3"
  },
  "language_info": {
   "codemirror_mode": {
    "name": "ipython",
    "version": 3
   },
   "file_extension": ".py",
   "mimetype": "text/x-python",
   "name": "python",
   "nbconvert_exporter": "python",
   "pygments_lexer": "ipython3",
   "version": "3.10.16"
  }
 },
 "nbformat": 4,
 "nbformat_minor": 5
}
