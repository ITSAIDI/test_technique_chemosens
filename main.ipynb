{
 "cells": [
  {
   "cell_type": "markdown",
   "id": "3c154a88",
   "metadata": {},
   "source": [
    "# 1.Data cleaning"
   ]
  },
  {
   "cell_type": "markdown",
   "id": "24004826",
   "metadata": {},
   "source": [
    "## 1.1 Setup"
   ]
  },
  {
   "cell_type": "code",
   "execution_count": null,
   "id": "efc31caf",
   "metadata": {},
   "outputs": [],
   "source": [
    "import re\n",
    "import pandas as pd\n",
    "from nltk.corpus import stopwords\n",
    "import nltk\n",
    "import spacy\n",
    "import json"
   ]
  },
  {
   "cell_type": "markdown",
   "id": "8cd95b91",
   "metadata": {},
   "source": [
    "## 1.2 Loading Data"
   ]
  },
  {
   "cell_type": "markdown",
   "id": "665e96b1",
   "metadata": {},
   "source": [
    "### Train data"
   ]
  },
  {
   "cell_type": "code",
   "execution_count": null,
   "id": "eb38a7a4",
   "metadata": {},
   "outputs": [],
   "source": [
    "# We load our train data into a dataFrame\n",
    "trainDf = pd.read_excel('resources/referentiel_foodex.xlsx',sheet_name='Feuil1')\n",
    "trainDf"
   ]
  },
  {
   "cell_type": "markdown",
   "id": "4811c8d4",
   "metadata": {},
   "source": [
    "### Test data"
   ]
  },
  {
   "cell_type": "code",
   "execution_count": null,
   "id": "0e2960dc",
   "metadata": {},
   "outputs": [],
   "source": [
    "# Convert the test.json into an Excel file to be easy to annoutate.\n",
    "with open(\"resources/test.json\", \"r\", encoding=\"utf-8\") as file:\n",
    "    data = json.load(file)\n",
    "    \n",
    "products = data[\"designations\"]\n",
    "testDf = pd.DataFrame({\n",
    "    \"Product\": products,\n",
    "    \"Category_clean\": [\"\"] * len(products)\n",
    "})\n",
    "testDf"
   ]
  },
  {
   "cell_type": "markdown",
   "id": "56911e94",
   "metadata": {},
   "source": [
    "## 1.3 Cleaning steps"
   ]
  },
  {
   "cell_type": "markdown",
   "id": "7fb97173",
   "metadata": {},
   "source": [
    "### Duplicated rows"
   ]
  },
  {
   "cell_type": "code",
   "execution_count": null,
   "id": "10cccf82",
   "metadata": {},
   "outputs": [],
   "source": [
    "# Check if there are duplicated rows \n",
    "# No duplicated rows in train\n",
    "\n",
    "duplicates = trainDf[trainDf.duplicated()]\n",
    "duplicates"
   ]
  },
  {
   "cell_type": "code",
   "execution_count": null,
   "id": "2f0d063b",
   "metadata": {},
   "outputs": [],
   "source": [
    "# No duplicated rows in test\n",
    "\n",
    "duplicates = testDf[testDf.duplicated()]\n",
    "duplicates"
   ]
  },
  {
   "cell_type": "markdown",
   "id": "8c3565fb",
   "metadata": {},
   "source": [
    "### Missing values"
   ]
  },
  {
   "cell_type": "code",
   "execution_count": null,
   "id": "a3fa8a8e",
   "metadata": {},
   "outputs": [],
   "source": [
    "# No missing values in test\n",
    "testDf.isnull().sum()"
   ]
  },
  {
   "cell_type": "code",
   "execution_count": null,
   "metadata": {},
   "outputs": [],
   "source": [
    "# 3 missing values in train\n",
    "trainDf.isnull().sum()"
   ]
  },
  {
   "cell_type": "code",
   "execution_count": null,
   "id": "0f01bf84",
   "metadata": {},
   "outputs": [],
   "source": [
    "# There 3 missing categories, for the moment we just remove them \n",
    "#-> (any row that has a missing value in a column will be dropped)\n",
    "\n",
    "trainDf_Cleaned = trainDf.dropna()\n",
    "trainDf_Cleaned = trainDf_Cleaned.rename(columns={\n",
    "    'Désignation commerciale':'Product',\n",
    "    'Catégorie de référence':'Category'})\n",
    "trainDf_Cleaned"
   ]
  },
  {
   "cell_type": "code",
   "execution_count": null,
   "id": "9a8613c7",
   "metadata": {},
   "outputs": [],
   "source": [
    "testDf_Cleaned = testDf"
   ]
  },
  {
   "cell_type": "markdown",
   "id": "ec611cb6",
   "metadata": {},
   "source": [
    "### Scientific names handeling"
   ]
  },
  {
   "cell_type": "code",
   "execution_count": null,
   "id": "f08b6cd8",
   "metadata": {},
   "outputs": [],
   "source": [
    "def remove_scientific_names(text):\n",
    "    # Use regex to find and remove all text between parentheses (scientific names)\n",
    "    cleaned_text = re.sub(r'\\(.*?\\)', '', text)\n",
    "    return cleaned_text"
   ]
  },
  {
   "cell_type": "code",
   "execution_count": null,
   "id": "4a023f03",
   "metadata": {},
   "outputs": [],
   "source": [
    "trainDf_Cleaned[\"Product_clean\"] = trainDf_Cleaned[\"Product\"].apply(remove_scientific_names)\n",
    "trainDf_Cleaned[\"Category_clean\"] = trainDf_Cleaned[\"Category\"].apply(remove_scientific_names)\n",
    "trainDf_Cleaned"
   ]
  },
  {
   "cell_type": "code",
   "execution_count": null,
   "id": "6ce104a4",
   "metadata": {},
   "outputs": [],
   "source": [
    "testDf_Cleaned[\"Product_clean\"] = testDf_Cleaned[\"Product\"].apply(remove_scientific_names)\n",
    "testDf_Cleaned"
   ]
  },
  {
   "cell_type": "markdown",
   "id": "ad7a6035",
   "metadata": {},
   "source": [
    "### Special caracters and Lowercasing"
   ]
  },
  {
   "cell_type": "code",
   "execution_count": null,
   "id": "c558c269",
   "metadata": {},
   "outputs": [],
   "source": [
    "def cleanText(text):\n",
    "    text = re.sub(r\"[^a-zA-Z0-9àâäéèêëîïôöùûüÿçœæÀÂÄÉÈÊËÎÏÔÖÙÛÜŸÇŒÆ\\s]\",\" \",text) # Replace special caracters with white space.\n",
    "    return text.lower() # lowercase"
   ]
  },
  {
   "cell_type": "code",
   "execution_count": null,
   "id": "5308de26",
   "metadata": {},
   "outputs": [],
   "source": [
    "trainDf_Cleaned[\"Product_clean\"] = trainDf_Cleaned[\"Product_clean\"].apply(cleanText)\n",
    "trainDf_Cleaned[\"Category_clean\"] = trainDf_Cleaned[\"Category_clean\"].apply(cleanText)\n",
    "trainDf_Cleaned"
   ]
  },
  {
   "cell_type": "code",
   "execution_count": null,
   "id": "6b5d2849",
   "metadata": {},
   "outputs": [],
   "source": [
    "testDf_Cleaned[\"Product_clean\"] = testDf_Cleaned[\"Product_clean\"].apply(cleanText)\n",
    "testDf_Cleaned"
   ]
  },
  {
   "cell_type": "markdown",
   "id": "17372f9e",
   "metadata": {},
   "source": [
    "### Stopwords removing "
   ]
  },
  {
   "cell_type": "code",
   "execution_count": null,
   "id": "daca21db",
   "metadata": {},
   "outputs": [],
   "source": [
    "# Download French stopwords if not already\n",
    "nltk.download('stopwords')\n",
    "french_stopwords = set(stopwords.words('french'))\n",
    "len(french_stopwords)"
   ]
  },
  {
   "cell_type": "code",
   "execution_count": null,
   "id": "a79aee50",
   "metadata": {},
   "outputs": [],
   "source": [
    "def remove_french_stopwords(text):\n",
    "    words = re.findall(r'\\b\\w+\\b', text.lower())\n",
    "    return ' '.join([w for w in words if w not in french_stopwords])\n"
   ]
  },
  {
   "cell_type": "code",
   "execution_count": null,
   "id": "cf9c4616",
   "metadata": {},
   "outputs": [],
   "source": [
    "# Apply to both columns\n",
    "trainDf_Cleaned['Product_clean'] = trainDf_Cleaned['Product_clean'].apply(remove_french_stopwords)\n",
    "trainDf_Cleaned['Category_clean'] = trainDf_Cleaned['Category_clean'].apply(remove_french_stopwords)\n",
    "trainDf_Cleaned"
   ]
  },
  {
   "cell_type": "code",
   "execution_count": null,
   "id": "9251b0b1",
   "metadata": {},
   "outputs": [],
   "source": [
    "testDf_Cleaned[\"Product_clean\"] = testDf_Cleaned[\"Product_clean\"].apply(remove_french_stopwords)\n",
    "testDf_Cleaned"
   ]
  },
  {
   "cell_type": "markdown",
   "id": "456994ac",
   "metadata": {},
   "source": [
    "### Keep only Nouns"
   ]
  },
  {
   "cell_type": "markdown",
   "id": "d186ae8c",
   "metadata": {},
   "source": [
    "use the following command to install the model :\n",
    "\n",
    "```bash\n",
    "uv run python -m spacy download fr_dep_news_trf \n",
    "```"
   ]
  },
  {
   "cell_type": "code",
   "execution_count": null,
   "id": "1f30706c",
   "metadata": {},
   "outputs": [],
   "source": [
    "nlp = spacy.load(\"fr_dep_news_trf\")"
   ]
  },
  {
   "cell_type": "code",
   "execution_count": null,
   "id": "50db4102",
   "metadata": {},
   "outputs": [],
   "source": [
    "def keep_nouns(text):\n",
    "    doc = nlp(text)\n",
    "    cleanedText = \" \".join([token.text for token in doc if token.pos_ in [\"NOUN\",\"PROPN\"] ])\n",
    "    if len(cleanedText) > 0:\n",
    "        return cleanedText\n",
    "    return text"
   ]
  },
  {
   "cell_type": "code",
   "execution_count": null,
   "id": "47991099",
   "metadata": {},
   "outputs": [],
   "source": [
    "# Example \n",
    "\n",
    "print(keep_nouns(\"boissons au cola caféiniques faibles en \"))\n",
    "\n",
    "doc = nlp(\"boissons au cola caféiniques faibles en \")\n",
    "for token in doc:\n",
    "    print(token.text, token.pos_)"
   ]
  },
  {
   "cell_type": "code",
   "execution_count": null,
   "id": "d2638458",
   "metadata": {},
   "outputs": [],
   "source": [
    "trainDf_Cleaned[\"Product_clean\"] = trainDf_Cleaned[\"Product_clean\"].apply(keep_nouns)\n",
    "trainDf_Cleaned[\"Category_clean\"] = trainDf_Cleaned[\"Category_clean\"].apply(keep_nouns)\n",
    "trainDf_Cleaned"
   ]
  },
  {
   "cell_type": "code",
   "execution_count": null,
   "id": "5c18d215",
   "metadata": {},
   "outputs": [],
   "source": [
    "testDf_Cleaned[\"Product_clean\"] = testDf_Cleaned[\"Product_clean\"].apply(keep_nouns)\n",
    "testDf_Cleaned"
   ]
  },
  {
   "cell_type": "markdown",
   "id": "c0581fb0",
   "metadata": {},
   "source": [
    "### Redundant words handling"
   ]
  },
  {
   "cell_type": "code",
   "execution_count": null,
   "id": "9c9d8e6d",
   "metadata": {},
   "outputs": [],
   "source": [
    "def remove_redundant_words(text):\n",
    "    words = text.split()\n",
    "    unique_words = set(words)\n",
    "    cleaned_text = ' '.join(sorted(unique_words, key=words.index))\n",
    "    return cleaned_text"
   ]
  },
  {
   "cell_type": "code",
   "execution_count": null,
   "id": "f94dacd6",
   "metadata": {},
   "outputs": [],
   "source": [
    "trainDf_Cleaned[\"Product_clean\"] = trainDf_Cleaned[\"Product_clean\"].apply(remove_redundant_words)\n",
    "trainDf_Cleaned[\"Category_clean\"] = trainDf_Cleaned[\"Category_clean\"].apply(remove_redundant_words)\n",
    "trainDf_Cleaned"
   ]
  },
  {
   "cell_type": "code",
   "execution_count": null,
   "id": "3f5f8a91",
   "metadata": {},
   "outputs": [],
   "source": [
    "testDf_Cleaned[\"Product_clean\"] = testDf_Cleaned[\"Product_clean\"].apply(remove_redundant_words)\n",
    "testDf_Cleaned"
   ]
  },
  {
   "cell_type": "markdown",
   "id": "747a4104",
   "metadata": {},
   "source": [
    "### Save the cleaned dataframe"
   ]
  },
  {
   "cell_type": "code",
   "execution_count": null,
   "id": "774f8d7a",
   "metadata": {},
   "outputs": [],
   "source": [
    "trainDf_Cleaned.iloc[:, -2:].to_excel('data/train_cleaned.xlsx',index=False)\n",
    "testDf_Cleaned.to_excel('data/test_cleaned.xlsx',index=False)"
   ]
  },
  {
   "cell_type": "markdown",
   "id": "0fb43da1",
   "metadata": {},
   "source": [
    "# 2.Classification"
   ]
  },
  {
   "cell_type": "markdown",
   "id": "ad88a981",
   "metadata": {},
   "source": [
    "## 2.1 Evaluation function "
   ]
  },
  {
   "cell_type": "markdown",
   "id": "824528cf",
   "metadata": {},
   "source": [
    "### Setup"
   ]
  },
  {
   "cell_type": "code",
   "execution_count": 19,
   "id": "49f3f919",
   "metadata": {},
   "outputs": [],
   "source": [
    "import pandas as pd\n",
    "from sklearn.metrics import accuracy_score\n",
    "import warnings\n",
    "warnings.filterwarnings(\"ignore\")"
   ]
  },
  {
   "cell_type": "code",
   "execution_count": null,
   "id": "a0529b4e",
   "metadata": {},
   "outputs": [],
   "source": [
    "testDf_Cleaned = pd.read_excel('data/test_cleaned.xlsx')\n",
    "trainDf_Cleaned = pd.read_excel('data/train_cleaned.xlsx')"
   ]
  },
  {
   "cell_type": "markdown",
   "id": "eae04d23",
   "metadata": {},
   "source": [
    "### Preparing test data"
   ]
  },
  {
   "cell_type": "code",
   "execution_count": null,
   "id": "ea11cd34",
   "metadata": {},
   "outputs": [],
   "source": [
    "# Map knowen categories from train data by merging on Product_clean column\n",
    "\n",
    "testDf_Cleaned = testDf_Cleaned.drop(columns=[\"Category_clean\"])  # drop the empty column\n",
    "testDf_Cleaned = testDf_Cleaned.merge(trainDf_Cleaned, on=\"Product_clean\", how=\"left\")\n",
    "testDf_Cleaned.to_excel('data/test_cleaned.xlsx',index=False)\n",
    "testDf_Cleaned"
   ]
  },
  {
   "cell_type": "code",
   "execution_count": null,
   "id": "a7c3f22d",
   "metadata": {},
   "outputs": [],
   "source": [
    "# Test data after annoutating remained Products\n",
    "testDf_Cleaned = pd.read_excel('data/test_cleaned.xlsx')\n",
    "testDf_Cleaned"
   ]
  },
  {
   "cell_type": "markdown",
   "id": "b20068e5",
   "metadata": {},
   "source": [
    "### Evaluation function"
   ]
  },
  {
   "cell_type": "code",
   "execution_count": 20,
   "id": "7f936f5e",
   "metadata": {},
   "outputs": [],
   "source": [
    "def Evaluate(true_df,pred_df):\n",
    "    merged = true_df.merge(pred_df, on=\"Product_clean\", how=\"inner\")\n",
    "    y_true = merged[\"Category_clean\"]\n",
    "    y_pred = merged[\"Category_predicted\"]\n",
    "    return accuracy_score(y_true,y_pred)"
   ]
  },
  {
   "cell_type": "markdown",
   "id": "74e11300",
   "metadata": {},
   "source": [
    "## 2.2 Keywords based Pre-Selection"
   ]
  },
  {
   "cell_type": "markdown",
   "id": "9c046c1c",
   "metadata": {},
   "source": [
    "### Setup"
   ]
  },
  {
   "cell_type": "code",
   "execution_count": null,
   "metadata": {},
   "outputs": [],
   "source": [
    "import pandas as pd"
   ]
  },
  {
   "cell_type": "code",
   "execution_count": null,
   "id": "c662b020",
   "metadata": {},
   "outputs": [],
   "source": [
    "train_cleaned = pd.read_excel('data/train_cleaned.xlsx')\n",
    "test_cleaned = pd.read_excel('data/test_cleaned.xlsx')"
   ]
  },
  {
   "cell_type": "markdown",
   "id": "cde597d5",
   "metadata": {},
   "source": [
    "### Get Candidates"
   ]
  },
  {
   "cell_type": "code",
   "execution_count": null,
   "metadata": {},
   "outputs": [],
   "source": [
    "def get_Candidates(productName,dataframe):\n",
    "    categories = dataframe['Category_clean'].unique().tolist()\n",
    "    candidates = set()\n",
    "    keywords = productName.strip().split()\n",
    "    for keyword in keywords:\n",
    "        for category in categories:\n",
    "            if keyword in category.strip().split():\n",
    "                candidates.add(category)\n",
    "    return list(candidates)\n",
    "\n",
    "def runAll(dataframe):\n",
    "    products = dataframe['Product_clean'].tolist()\n",
    "    candidates_list = []\n",
    "    for product in products:\n",
    "        candidates = get_Candidates(product,dataframe)\n",
    "        candidates_list.append(candidates)\n",
    "    dataframe['Candidate_categories'] = candidates_list\n",
    "    return dataframe"
   ]
  },
  {
   "cell_type": "code",
   "execution_count": null,
   "metadata": {},
   "outputs": [],
   "source": [
    "# Example\n",
    "get_Candidates(\"purée pommes terre\",train_cleaned)"
   ]
  },
  {
   "cell_type": "code",
   "execution_count": null,
   "id": "e8c83e32",
   "metadata": {},
   "outputs": [],
   "source": [
    "train_with_candidates = runAll(train_cleaned)\n",
    "test_with_candidates = runAll(test_cleaned)"
   ]
  },
  {
   "cell_type": "markdown",
   "id": "682d290f",
   "metadata": {},
   "source": [
    "### Set predictions"
   ]
  },
  {
   "cell_type": "markdown",
   "id": "73c48095",
   "metadata": {},
   "source": [
    "If a product has only one candidate, there is no need for the refinement step, as the predicted category is already determined."
   ]
  },
  {
   "cell_type": "code",
   "execution_count": null,
   "metadata": {},
   "outputs": [],
   "source": [
    "train_with_candidates['Category_predicted'] = train_with_candidates['Candidate_categories'].apply(\n",
    "    lambda x: x[0] if len(x) == 1 else ''\n",
    ")\n",
    "train_with_candidates.to_excel('data/train_with_candidates.xlsx',index=False)\n",
    "train_with_candidates"
   ]
  },
  {
   "cell_type": "code",
   "execution_count": null,
   "id": "a012e332",
   "metadata": {},
   "outputs": [],
   "source": [
    "test_with_candidates['Category_predicted'] = test_with_candidates['Candidate_categories'].apply(\n",
    "    lambda x: x[0] if len(x) == 1 else ''\n",
    ")\n",
    "test_with_candidates.to_excel('data/test_with_candidates.xlsx',index=False)\n",
    "test_with_candidates"
   ]
  },
  {
   "cell_type": "markdown",
   "id": "ca028fb4",
   "metadata": {},
   "source": [
    "## 2.3 Embeddings model approach "
   ]
  },
  {
   "cell_type": "markdown",
   "id": "9f4b36b6",
   "metadata": {},
   "source": [
    "### Setup"
   ]
  },
  {
   "cell_type": "code",
   "execution_count": 6,
   "id": "75cb90cf",
   "metadata": {},
   "outputs": [],
   "source": [
    "from sentence_transformers import SentenceTransformer,util\n",
    "import pandas as pd\n",
    "import ast"
   ]
  },
  {
   "cell_type": "code",
   "execution_count": null,
   "id": "cd227b30",
   "metadata": {},
   "outputs": [],
   "source": [
    "embedding_model = SentenceTransformer('Lajavaness/bilingual-embedding-large', trust_remote_code=True)"
   ]
  },
  {
   "cell_type": "code",
   "execution_count": 4,
   "id": "58b4f7c5",
   "metadata": {},
   "outputs": [],
   "source": [
    "def getStringTolist(dataframe):\n",
    "    ### Convert the string representation of list into a real Python list\n",
    "    \n",
    "    dataframe[\"Candidate_categories\"] = dataframe[\"Candidate_categories\"].apply(lambda x: ast.literal_eval(x) if isinstance(x, str) else [])\n",
    "    return dataframe"
   ]
  },
  {
   "cell_type": "code",
   "execution_count": null,
   "id": "52e2d1dd",
   "metadata": {},
   "outputs": [],
   "source": [
    "train_with_candidates = pd.read_excel(\"data/train_with_candidates.xlsx\")\n",
    "test_with_candidates = pd.read_excel(\"data/test_with_candidates.xlsx\")"
   ]
  },
  {
   "cell_type": "code",
   "execution_count": null,
   "id": "9bf06324",
   "metadata": {},
   "outputs": [],
   "source": [
    "train_with_candidates = getStringTolist(train_with_candidates)\n",
    "test_with_candidates = getStringTolist(test_with_candidates)"
   ]
  },
  {
   "cell_type": "markdown",
   "id": "e9beb8fa",
   "metadata": {},
   "source": [
    "### Embeddings"
   ]
  },
  {
   "cell_type": "code",
   "execution_count": null,
   "id": "45664a68",
   "metadata": {},
   "outputs": [],
   "source": [
    "def predict_embeddings_approach(dataframe):\n",
    "    \n",
    "    # Encode all unique categories\n",
    "    all_categories = dataframe[\"Category_clean\"].unique().tolist()\n",
    "    all_cat_emb = embedding_model.encode(all_categories, convert_to_tensor=True)\n",
    "    \n",
    "    # Prediction loop\n",
    "    preds = []\n",
    "    for _, row in dataframe.iterrows():\n",
    "        if pd.notna(row[\"Category_predicted\"]):\n",
    "            preds.append(row[\"Category_predicted\"])\n",
    "            continue\n",
    "    \n",
    "        candidates = row[\"Candidate_categories\"]\n",
    "        if len(candidates) == 0:\n",
    "            candidates = all_categories\n",
    "            cand_emb = all_cat_emb\n",
    "        else:\n",
    "            cand_emb = embedding_model.encode(candidates, convert_to_tensor=True)\n",
    "\n",
    "        prod_emb = embedding_model.encode(row[\"Product_clean\"], convert_to_tensor=True)\n",
    "        sims = util.cos_sim(prod_emb, cand_emb)[0]\n",
    "        best_idx = sims.argmax().item()\n",
    "        preds.append(candidates[best_idx])\n",
    "\n",
    "    dataframe[\"Category_predicted\"] = preds\n",
    "    return dataframe"
   ]
  },
  {
   "cell_type": "code",
   "execution_count": null,
   "metadata": {},
   "outputs": [],
   "source": [
    "train_with_candidates = predict_embeddings_approach(train_with_candidates)\n",
    "test_with_candidates = predict_embeddings_approach(test_with_candidates)"
   ]
  },
  {
   "cell_type": "markdown",
   "id": "f6cd94f3",
   "metadata": {},
   "source": [
    "### Evaluation"
   ]
  },
  {
   "cell_type": "code",
   "execution_count": null,
   "id": "98bdcf7d",
   "metadata": {},
   "outputs": [],
   "source": [
    "# On train data\n",
    "\n",
    "trainDf_Cleaned = pd.read_excel('data/train_cleaned.xlsx') \n",
    "train_accuarcy = Evaluate(trainDf_Cleaned,train_with_candidates[[\"Product_clean\", \"Category_predicted\"]])\n",
    "print(\"Accuarcy on train data\",round(train_accuarcy,2))\n"
   ]
  },
  {
   "cell_type": "code",
   "execution_count": null,
   "id": "1bc50eae",
   "metadata": {},
   "outputs": [],
   "source": [
    "# On test data\n",
    "\n",
    "testDf_Cleaned = pd.read_excel('data/test_cleaned.xlsx') \n",
    "test_accuarcy = Evaluate(testDf_Cleaned,test_with_candidates[[\"Product_clean\", \"Category_predicted\"]])\n",
    "print(\"Accuarcy on test data\",round(test_accuarcy,2))\n"
   ]
  },
  {
   "cell_type": "markdown",
   "id": "251159ee",
   "metadata": {},
   "source": [
    "## 2.4 TF-IDF + SVM approach"
   ]
  },
  {
   "cell_type": "markdown",
   "id": "d4837bed",
   "metadata": {},
   "source": [
    "### Setup"
   ]
  },
  {
   "cell_type": "code",
   "execution_count": 12,
   "id": "4b2896c2",
   "metadata": {},
   "outputs": [],
   "source": [
    "import pandas as pd\n",
    "from sklearn.feature_extraction.text import TfidfVectorizer\n",
    "from sklearn.svm import SVC\n",
    "import warnings\n",
    "warnings.filterwarnings(\"ignore\")"
   ]
  },
  {
   "cell_type": "code",
   "execution_count": 2,
   "id": "78ffec94",
   "metadata": {},
   "outputs": [],
   "source": [
    "train_with_candidates = pd.read_excel(\"data/train_with_candidates.xlsx\")\n",
    "test_with_candidates = pd.read_excel(\"data/test_with_candidates.xlsx\")"
   ]
  },
  {
   "cell_type": "code",
   "execution_count": 7,
   "metadata": {},
   "outputs": [],
   "source": [
    "train_with_candidates = getStringTolist(train_with_candidates)\n",
    "test_with_candidates = getStringTolist(test_with_candidates)"
   ]
  },
  {
   "cell_type": "markdown",
   "id": "4fbab6b4",
   "metadata": {},
   "source": [
    "### Train the SVM"
   ]
  },
  {
   "cell_type": "code",
   "execution_count": 8,
   "id": "6375e355",
   "metadata": {},
   "outputs": [],
   "source": [
    "# TF-IDF vectorizer\n",
    "vectorizer = TfidfVectorizer()\n",
    "X_tfidf = vectorizer.fit_transform(train_with_candidates['Product_clean'])"
   ]
  },
  {
   "cell_type": "code",
   "execution_count": 13,
   "id": "881b4940",
   "metadata": {},
   "outputs": [
    {
     "data": {
      "text/html": [
       "<style>#sk-container-id-2 {\n",
       "  /* Definition of color scheme common for light and dark mode */\n",
       "  --sklearn-color-text: #000;\n",
       "  --sklearn-color-text-muted: #666;\n",
       "  --sklearn-color-line: gray;\n",
       "  /* Definition of color scheme for unfitted estimators */\n",
       "  --sklearn-color-unfitted-level-0: #fff5e6;\n",
       "  --sklearn-color-unfitted-level-1: #f6e4d2;\n",
       "  --sklearn-color-unfitted-level-2: #ffe0b3;\n",
       "  --sklearn-color-unfitted-level-3: chocolate;\n",
       "  /* Definition of color scheme for fitted estimators */\n",
       "  --sklearn-color-fitted-level-0: #f0f8ff;\n",
       "  --sklearn-color-fitted-level-1: #d4ebff;\n",
       "  --sklearn-color-fitted-level-2: #b3dbfd;\n",
       "  --sklearn-color-fitted-level-3: cornflowerblue;\n",
       "\n",
       "  /* Specific color for light theme */\n",
       "  --sklearn-color-text-on-default-background: var(--sg-text-color, var(--theme-code-foreground, var(--jp-content-font-color1, black)));\n",
       "  --sklearn-color-background: var(--sg-background-color, var(--theme-background, var(--jp-layout-color0, white)));\n",
       "  --sklearn-color-border-box: var(--sg-text-color, var(--theme-code-foreground, var(--jp-content-font-color1, black)));\n",
       "  --sklearn-color-icon: #696969;\n",
       "\n",
       "  @media (prefers-color-scheme: dark) {\n",
       "    /* Redefinition of color scheme for dark theme */\n",
       "    --sklearn-color-text-on-default-background: var(--sg-text-color, var(--theme-code-foreground, var(--jp-content-font-color1, white)));\n",
       "    --sklearn-color-background: var(--sg-background-color, var(--theme-background, var(--jp-layout-color0, #111)));\n",
       "    --sklearn-color-border-box: var(--sg-text-color, var(--theme-code-foreground, var(--jp-content-font-color1, white)));\n",
       "    --sklearn-color-icon: #878787;\n",
       "  }\n",
       "}\n",
       "\n",
       "#sk-container-id-2 {\n",
       "  color: var(--sklearn-color-text);\n",
       "}\n",
       "\n",
       "#sk-container-id-2 pre {\n",
       "  padding: 0;\n",
       "}\n",
       "\n",
       "#sk-container-id-2 input.sk-hidden--visually {\n",
       "  border: 0;\n",
       "  clip: rect(1px 1px 1px 1px);\n",
       "  clip: rect(1px, 1px, 1px, 1px);\n",
       "  height: 1px;\n",
       "  margin: -1px;\n",
       "  overflow: hidden;\n",
       "  padding: 0;\n",
       "  position: absolute;\n",
       "  width: 1px;\n",
       "}\n",
       "\n",
       "#sk-container-id-2 div.sk-dashed-wrapped {\n",
       "  border: 1px dashed var(--sklearn-color-line);\n",
       "  margin: 0 0.4em 0.5em 0.4em;\n",
       "  box-sizing: border-box;\n",
       "  padding-bottom: 0.4em;\n",
       "  background-color: var(--sklearn-color-background);\n",
       "}\n",
       "\n",
       "#sk-container-id-2 div.sk-container {\n",
       "  /* jupyter's `normalize.less` sets `[hidden] { display: none; }`\n",
       "     but bootstrap.min.css set `[hidden] { display: none !important; }`\n",
       "     so we also need the `!important` here to be able to override the\n",
       "     default hidden behavior on the sphinx rendered scikit-learn.org.\n",
       "     See: https://github.com/scikit-learn/scikit-learn/issues/21755 */\n",
       "  display: inline-block !important;\n",
       "  position: relative;\n",
       "}\n",
       "\n",
       "#sk-container-id-2 div.sk-text-repr-fallback {\n",
       "  display: none;\n",
       "}\n",
       "\n",
       "div.sk-parallel-item,\n",
       "div.sk-serial,\n",
       "div.sk-item {\n",
       "  /* draw centered vertical line to link estimators */\n",
       "  background-image: linear-gradient(var(--sklearn-color-text-on-default-background), var(--sklearn-color-text-on-default-background));\n",
       "  background-size: 2px 100%;\n",
       "  background-repeat: no-repeat;\n",
       "  background-position: center center;\n",
       "}\n",
       "\n",
       "/* Parallel-specific style estimator block */\n",
       "\n",
       "#sk-container-id-2 div.sk-parallel-item::after {\n",
       "  content: \"\";\n",
       "  width: 100%;\n",
       "  border-bottom: 2px solid var(--sklearn-color-text-on-default-background);\n",
       "  flex-grow: 1;\n",
       "}\n",
       "\n",
       "#sk-container-id-2 div.sk-parallel {\n",
       "  display: flex;\n",
       "  align-items: stretch;\n",
       "  justify-content: center;\n",
       "  background-color: var(--sklearn-color-background);\n",
       "  position: relative;\n",
       "}\n",
       "\n",
       "#sk-container-id-2 div.sk-parallel-item {\n",
       "  display: flex;\n",
       "  flex-direction: column;\n",
       "}\n",
       "\n",
       "#sk-container-id-2 div.sk-parallel-item:first-child::after {\n",
       "  align-self: flex-end;\n",
       "  width: 50%;\n",
       "}\n",
       "\n",
       "#sk-container-id-2 div.sk-parallel-item:last-child::after {\n",
       "  align-self: flex-start;\n",
       "  width: 50%;\n",
       "}\n",
       "\n",
       "#sk-container-id-2 div.sk-parallel-item:only-child::after {\n",
       "  width: 0;\n",
       "}\n",
       "\n",
       "/* Serial-specific style estimator block */\n",
       "\n",
       "#sk-container-id-2 div.sk-serial {\n",
       "  display: flex;\n",
       "  flex-direction: column;\n",
       "  align-items: center;\n",
       "  background-color: var(--sklearn-color-background);\n",
       "  padding-right: 1em;\n",
       "  padding-left: 1em;\n",
       "}\n",
       "\n",
       "\n",
       "/* Toggleable style: style used for estimator/Pipeline/ColumnTransformer box that is\n",
       "clickable and can be expanded/collapsed.\n",
       "- Pipeline and ColumnTransformer use this feature and define the default style\n",
       "- Estimators will overwrite some part of the style using the `sk-estimator` class\n",
       "*/\n",
       "\n",
       "/* Pipeline and ColumnTransformer style (default) */\n",
       "\n",
       "#sk-container-id-2 div.sk-toggleable {\n",
       "  /* Default theme specific background. It is overwritten whether we have a\n",
       "  specific estimator or a Pipeline/ColumnTransformer */\n",
       "  background-color: var(--sklearn-color-background);\n",
       "}\n",
       "\n",
       "/* Toggleable label */\n",
       "#sk-container-id-2 label.sk-toggleable__label {\n",
       "  cursor: pointer;\n",
       "  display: flex;\n",
       "  width: 100%;\n",
       "  margin-bottom: 0;\n",
       "  padding: 0.5em;\n",
       "  box-sizing: border-box;\n",
       "  text-align: center;\n",
       "  align-items: start;\n",
       "  justify-content: space-between;\n",
       "  gap: 0.5em;\n",
       "}\n",
       "\n",
       "#sk-container-id-2 label.sk-toggleable__label .caption {\n",
       "  font-size: 0.6rem;\n",
       "  font-weight: lighter;\n",
       "  color: var(--sklearn-color-text-muted);\n",
       "}\n",
       "\n",
       "#sk-container-id-2 label.sk-toggleable__label-arrow:before {\n",
       "  /* Arrow on the left of the label */\n",
       "  content: \"▸\";\n",
       "  float: left;\n",
       "  margin-right: 0.25em;\n",
       "  color: var(--sklearn-color-icon);\n",
       "}\n",
       "\n",
       "#sk-container-id-2 label.sk-toggleable__label-arrow:hover:before {\n",
       "  color: var(--sklearn-color-text);\n",
       "}\n",
       "\n",
       "/* Toggleable content - dropdown */\n",
       "\n",
       "#sk-container-id-2 div.sk-toggleable__content {\n",
       "  display: none;\n",
       "  text-align: left;\n",
       "  /* unfitted */\n",
       "  background-color: var(--sklearn-color-unfitted-level-0);\n",
       "}\n",
       "\n",
       "#sk-container-id-2 div.sk-toggleable__content.fitted {\n",
       "  /* fitted */\n",
       "  background-color: var(--sklearn-color-fitted-level-0);\n",
       "}\n",
       "\n",
       "#sk-container-id-2 div.sk-toggleable__content pre {\n",
       "  margin: 0.2em;\n",
       "  border-radius: 0.25em;\n",
       "  color: var(--sklearn-color-text);\n",
       "  /* unfitted */\n",
       "  background-color: var(--sklearn-color-unfitted-level-0);\n",
       "}\n",
       "\n",
       "#sk-container-id-2 div.sk-toggleable__content.fitted pre {\n",
       "  /* unfitted */\n",
       "  background-color: var(--sklearn-color-fitted-level-0);\n",
       "}\n",
       "\n",
       "#sk-container-id-2 input.sk-toggleable__control:checked~div.sk-toggleable__content {\n",
       "  /* Expand drop-down */\n",
       "  display: block;\n",
       "  width: 100%;\n",
       "  overflow: visible;\n",
       "}\n",
       "\n",
       "#sk-container-id-2 input.sk-toggleable__control:checked~label.sk-toggleable__label-arrow:before {\n",
       "  content: \"▾\";\n",
       "}\n",
       "\n",
       "/* Pipeline/ColumnTransformer-specific style */\n",
       "\n",
       "#sk-container-id-2 div.sk-label input.sk-toggleable__control:checked~label.sk-toggleable__label {\n",
       "  color: var(--sklearn-color-text);\n",
       "  background-color: var(--sklearn-color-unfitted-level-2);\n",
       "}\n",
       "\n",
       "#sk-container-id-2 div.sk-label.fitted input.sk-toggleable__control:checked~label.sk-toggleable__label {\n",
       "  background-color: var(--sklearn-color-fitted-level-2);\n",
       "}\n",
       "\n",
       "/* Estimator-specific style */\n",
       "\n",
       "/* Colorize estimator box */\n",
       "#sk-container-id-2 div.sk-estimator input.sk-toggleable__control:checked~label.sk-toggleable__label {\n",
       "  /* unfitted */\n",
       "  background-color: var(--sklearn-color-unfitted-level-2);\n",
       "}\n",
       "\n",
       "#sk-container-id-2 div.sk-estimator.fitted input.sk-toggleable__control:checked~label.sk-toggleable__label {\n",
       "  /* fitted */\n",
       "  background-color: var(--sklearn-color-fitted-level-2);\n",
       "}\n",
       "\n",
       "#sk-container-id-2 div.sk-label label.sk-toggleable__label,\n",
       "#sk-container-id-2 div.sk-label label {\n",
       "  /* The background is the default theme color */\n",
       "  color: var(--sklearn-color-text-on-default-background);\n",
       "}\n",
       "\n",
       "/* On hover, darken the color of the background */\n",
       "#sk-container-id-2 div.sk-label:hover label.sk-toggleable__label {\n",
       "  color: var(--sklearn-color-text);\n",
       "  background-color: var(--sklearn-color-unfitted-level-2);\n",
       "}\n",
       "\n",
       "/* Label box, darken color on hover, fitted */\n",
       "#sk-container-id-2 div.sk-label.fitted:hover label.sk-toggleable__label.fitted {\n",
       "  color: var(--sklearn-color-text);\n",
       "  background-color: var(--sklearn-color-fitted-level-2);\n",
       "}\n",
       "\n",
       "/* Estimator label */\n",
       "\n",
       "#sk-container-id-2 div.sk-label label {\n",
       "  font-family: monospace;\n",
       "  font-weight: bold;\n",
       "  display: inline-block;\n",
       "  line-height: 1.2em;\n",
       "}\n",
       "\n",
       "#sk-container-id-2 div.sk-label-container {\n",
       "  text-align: center;\n",
       "}\n",
       "\n",
       "/* Estimator-specific */\n",
       "#sk-container-id-2 div.sk-estimator {\n",
       "  font-family: monospace;\n",
       "  border: 1px dotted var(--sklearn-color-border-box);\n",
       "  border-radius: 0.25em;\n",
       "  box-sizing: border-box;\n",
       "  margin-bottom: 0.5em;\n",
       "  /* unfitted */\n",
       "  background-color: var(--sklearn-color-unfitted-level-0);\n",
       "}\n",
       "\n",
       "#sk-container-id-2 div.sk-estimator.fitted {\n",
       "  /* fitted */\n",
       "  background-color: var(--sklearn-color-fitted-level-0);\n",
       "}\n",
       "\n",
       "/* on hover */\n",
       "#sk-container-id-2 div.sk-estimator:hover {\n",
       "  /* unfitted */\n",
       "  background-color: var(--sklearn-color-unfitted-level-2);\n",
       "}\n",
       "\n",
       "#sk-container-id-2 div.sk-estimator.fitted:hover {\n",
       "  /* fitted */\n",
       "  background-color: var(--sklearn-color-fitted-level-2);\n",
       "}\n",
       "\n",
       "/* Specification for estimator info (e.g. \"i\" and \"?\") */\n",
       "\n",
       "/* Common style for \"i\" and \"?\" */\n",
       "\n",
       ".sk-estimator-doc-link,\n",
       "a:link.sk-estimator-doc-link,\n",
       "a:visited.sk-estimator-doc-link {\n",
       "  float: right;\n",
       "  font-size: smaller;\n",
       "  line-height: 1em;\n",
       "  font-family: monospace;\n",
       "  background-color: var(--sklearn-color-background);\n",
       "  border-radius: 1em;\n",
       "  height: 1em;\n",
       "  width: 1em;\n",
       "  text-decoration: none !important;\n",
       "  margin-left: 0.5em;\n",
       "  text-align: center;\n",
       "  /* unfitted */\n",
       "  border: var(--sklearn-color-unfitted-level-1) 1pt solid;\n",
       "  color: var(--sklearn-color-unfitted-level-1);\n",
       "}\n",
       "\n",
       ".sk-estimator-doc-link.fitted,\n",
       "a:link.sk-estimator-doc-link.fitted,\n",
       "a:visited.sk-estimator-doc-link.fitted {\n",
       "  /* fitted */\n",
       "  border: var(--sklearn-color-fitted-level-1) 1pt solid;\n",
       "  color: var(--sklearn-color-fitted-level-1);\n",
       "}\n",
       "\n",
       "/* On hover */\n",
       "div.sk-estimator:hover .sk-estimator-doc-link:hover,\n",
       ".sk-estimator-doc-link:hover,\n",
       "div.sk-label-container:hover .sk-estimator-doc-link:hover,\n",
       ".sk-estimator-doc-link:hover {\n",
       "  /* unfitted */\n",
       "  background-color: var(--sklearn-color-unfitted-level-3);\n",
       "  color: var(--sklearn-color-background);\n",
       "  text-decoration: none;\n",
       "}\n",
       "\n",
       "div.sk-estimator.fitted:hover .sk-estimator-doc-link.fitted:hover,\n",
       ".sk-estimator-doc-link.fitted:hover,\n",
       "div.sk-label-container:hover .sk-estimator-doc-link.fitted:hover,\n",
       ".sk-estimator-doc-link.fitted:hover {\n",
       "  /* fitted */\n",
       "  background-color: var(--sklearn-color-fitted-level-3);\n",
       "  color: var(--sklearn-color-background);\n",
       "  text-decoration: none;\n",
       "}\n",
       "\n",
       "/* Span, style for the box shown on hovering the info icon */\n",
       ".sk-estimator-doc-link span {\n",
       "  display: none;\n",
       "  z-index: 9999;\n",
       "  position: relative;\n",
       "  font-weight: normal;\n",
       "  right: .2ex;\n",
       "  padding: .5ex;\n",
       "  margin: .5ex;\n",
       "  width: min-content;\n",
       "  min-width: 20ex;\n",
       "  max-width: 50ex;\n",
       "  color: var(--sklearn-color-text);\n",
       "  box-shadow: 2pt 2pt 4pt #999;\n",
       "  /* unfitted */\n",
       "  background: var(--sklearn-color-unfitted-level-0);\n",
       "  border: .5pt solid var(--sklearn-color-unfitted-level-3);\n",
       "}\n",
       "\n",
       ".sk-estimator-doc-link.fitted span {\n",
       "  /* fitted */\n",
       "  background: var(--sklearn-color-fitted-level-0);\n",
       "  border: var(--sklearn-color-fitted-level-3);\n",
       "}\n",
       "\n",
       ".sk-estimator-doc-link:hover span {\n",
       "  display: block;\n",
       "}\n",
       "\n",
       "/* \"?\"-specific style due to the `<a>` HTML tag */\n",
       "\n",
       "#sk-container-id-2 a.estimator_doc_link {\n",
       "  float: right;\n",
       "  font-size: 1rem;\n",
       "  line-height: 1em;\n",
       "  font-family: monospace;\n",
       "  background-color: var(--sklearn-color-background);\n",
       "  border-radius: 1rem;\n",
       "  height: 1rem;\n",
       "  width: 1rem;\n",
       "  text-decoration: none;\n",
       "  /* unfitted */\n",
       "  color: var(--sklearn-color-unfitted-level-1);\n",
       "  border: var(--sklearn-color-unfitted-level-1) 1pt solid;\n",
       "}\n",
       "\n",
       "#sk-container-id-2 a.estimator_doc_link.fitted {\n",
       "  /* fitted */\n",
       "  border: var(--sklearn-color-fitted-level-1) 1pt solid;\n",
       "  color: var(--sklearn-color-fitted-level-1);\n",
       "}\n",
       "\n",
       "/* On hover */\n",
       "#sk-container-id-2 a.estimator_doc_link:hover {\n",
       "  /* unfitted */\n",
       "  background-color: var(--sklearn-color-unfitted-level-3);\n",
       "  color: var(--sklearn-color-background);\n",
       "  text-decoration: none;\n",
       "}\n",
       "\n",
       "#sk-container-id-2 a.estimator_doc_link.fitted:hover {\n",
       "  /* fitted */\n",
       "  background-color: var(--sklearn-color-fitted-level-3);\n",
       "}\n",
       "\n",
       ".estimator-table summary {\n",
       "    padding: .5rem;\n",
       "    font-family: monospace;\n",
       "    cursor: pointer;\n",
       "}\n",
       "\n",
       ".estimator-table details[open] {\n",
       "    padding-left: 0.1rem;\n",
       "    padding-right: 0.1rem;\n",
       "    padding-bottom: 0.3rem;\n",
       "}\n",
       "\n",
       ".estimator-table .parameters-table {\n",
       "    margin-left: auto !important;\n",
       "    margin-right: auto !important;\n",
       "}\n",
       "\n",
       ".estimator-table .parameters-table tr:nth-child(odd) {\n",
       "    background-color: #fff;\n",
       "}\n",
       "\n",
       ".estimator-table .parameters-table tr:nth-child(even) {\n",
       "    background-color: #f6f6f6;\n",
       "}\n",
       "\n",
       ".estimator-table .parameters-table tr:hover {\n",
       "    background-color: #e0e0e0;\n",
       "}\n",
       "\n",
       ".estimator-table table td {\n",
       "    border: 1px solid rgba(106, 105, 104, 0.232);\n",
       "}\n",
       "\n",
       ".user-set td {\n",
       "    color:rgb(255, 94, 0);\n",
       "    text-align: left;\n",
       "}\n",
       "\n",
       ".user-set td.value pre {\n",
       "    color:rgb(255, 94, 0) !important;\n",
       "    background-color: transparent !important;\n",
       "}\n",
       "\n",
       ".default td {\n",
       "    color: black;\n",
       "    text-align: left;\n",
       "}\n",
       "\n",
       ".user-set td i,\n",
       ".default td i {\n",
       "    color: black;\n",
       "}\n",
       "\n",
       ".copy-paste-icon {\n",
       "    background-image: url(data:image/svg+xml;base64,PHN2ZyB4bWxucz0iaHR0cDovL3d3dy53My5vcmcvMjAwMC9zdmciIHZpZXdCb3g9IjAgMCA0NDggNTEyIj48IS0tIUZvbnQgQXdlc29tZSBGcmVlIDYuNy4yIGJ5IEBmb250YXdlc29tZSAtIGh0dHBzOi8vZm9udGF3ZXNvbWUuY29tIExpY2Vuc2UgLSBodHRwczovL2ZvbnRhd2Vzb21lLmNvbS9saWNlbnNlL2ZyZWUgQ29weXJpZ2h0IDIwMjUgRm9udGljb25zLCBJbmMuLS0+PHBhdGggZD0iTTIwOCAwTDMzMi4xIDBjMTIuNyAwIDI0LjkgNS4xIDMzLjkgMTQuMWw2Ny45IDY3LjljOSA5IDE0LjEgMjEuMiAxNC4xIDMzLjlMNDQ4IDMzNmMwIDI2LjUtMjEuNSA0OC00OCA0OGwtMTkyIDBjLTI2LjUgMC00OC0yMS41LTQ4LTQ4bDAtMjg4YzAtMjYuNSAyMS41LTQ4IDQ4LTQ4ek00OCAxMjhsODAgMCAwIDY0LTY0IDAgMCAyNTYgMTkyIDAgMC0zMiA2NCAwIDAgNDhjMCAyNi41LTIxLjUgNDgtNDggNDhMNDggNTEyYy0yNi41IDAtNDgtMjEuNS00OC00OEwwIDE3NmMwLTI2LjUgMjEuNS00OCA0OC00OHoiLz48L3N2Zz4=);\n",
       "    background-repeat: no-repeat;\n",
       "    background-size: 14px 14px;\n",
       "    background-position: 0;\n",
       "    display: inline-block;\n",
       "    width: 14px;\n",
       "    height: 14px;\n",
       "    cursor: pointer;\n",
       "}\n",
       "</style><body><div id=\"sk-container-id-2\" class=\"sk-top-container\"><div class=\"sk-text-repr-fallback\"><pre>SVC(kernel=&#x27;linear&#x27;, probability=True)</pre><b>In a Jupyter environment, please rerun this cell to show the HTML representation or trust the notebook. <br />On GitHub, the HTML representation is unable to render, please try loading this page with nbviewer.org.</b></div><div class=\"sk-container\" hidden><div class=\"sk-item\"><div class=\"sk-estimator fitted sk-toggleable\"><input class=\"sk-toggleable__control sk-hidden--visually\" id=\"sk-estimator-id-2\" type=\"checkbox\" checked><label for=\"sk-estimator-id-2\" class=\"sk-toggleable__label fitted sk-toggleable__label-arrow\"><div><div>SVC</div></div><div><a class=\"sk-estimator-doc-link fitted\" rel=\"noreferrer\" target=\"_blank\" href=\"https://scikit-learn.org/1.7/modules/generated/sklearn.svm.SVC.html\">?<span>Documentation for SVC</span></a><span class=\"sk-estimator-doc-link fitted\">i<span>Fitted</span></span></div></label><div class=\"sk-toggleable__content fitted\" data-param-prefix=\"\">\n",
       "        <div class=\"estimator-table\">\n",
       "            <details>\n",
       "                <summary>Parameters</summary>\n",
       "                <table class=\"parameters-table\">\n",
       "                  <tbody>\n",
       "                    \n",
       "        <tr class=\"default\">\n",
       "            <td><i class=\"copy-paste-icon\"\n",
       "                 onclick=\"copyToClipboard('C',\n",
       "                          this.parentElement.nextElementSibling)\"\n",
       "            ></i></td>\n",
       "            <td class=\"param\">C&nbsp;</td>\n",
       "            <td class=\"value\">1.0</td>\n",
       "        </tr>\n",
       "    \n",
       "\n",
       "        <tr class=\"user-set\">\n",
       "            <td><i class=\"copy-paste-icon\"\n",
       "                 onclick=\"copyToClipboard('kernel',\n",
       "                          this.parentElement.nextElementSibling)\"\n",
       "            ></i></td>\n",
       "            <td class=\"param\">kernel&nbsp;</td>\n",
       "            <td class=\"value\">&#x27;linear&#x27;</td>\n",
       "        </tr>\n",
       "    \n",
       "\n",
       "        <tr class=\"default\">\n",
       "            <td><i class=\"copy-paste-icon\"\n",
       "                 onclick=\"copyToClipboard('degree',\n",
       "                          this.parentElement.nextElementSibling)\"\n",
       "            ></i></td>\n",
       "            <td class=\"param\">degree&nbsp;</td>\n",
       "            <td class=\"value\">3</td>\n",
       "        </tr>\n",
       "    \n",
       "\n",
       "        <tr class=\"default\">\n",
       "            <td><i class=\"copy-paste-icon\"\n",
       "                 onclick=\"copyToClipboard('gamma',\n",
       "                          this.parentElement.nextElementSibling)\"\n",
       "            ></i></td>\n",
       "            <td class=\"param\">gamma&nbsp;</td>\n",
       "            <td class=\"value\">&#x27;scale&#x27;</td>\n",
       "        </tr>\n",
       "    \n",
       "\n",
       "        <tr class=\"default\">\n",
       "            <td><i class=\"copy-paste-icon\"\n",
       "                 onclick=\"copyToClipboard('coef0',\n",
       "                          this.parentElement.nextElementSibling)\"\n",
       "            ></i></td>\n",
       "            <td class=\"param\">coef0&nbsp;</td>\n",
       "            <td class=\"value\">0.0</td>\n",
       "        </tr>\n",
       "    \n",
       "\n",
       "        <tr class=\"default\">\n",
       "            <td><i class=\"copy-paste-icon\"\n",
       "                 onclick=\"copyToClipboard('shrinking',\n",
       "                          this.parentElement.nextElementSibling)\"\n",
       "            ></i></td>\n",
       "            <td class=\"param\">shrinking&nbsp;</td>\n",
       "            <td class=\"value\">True</td>\n",
       "        </tr>\n",
       "    \n",
       "\n",
       "        <tr class=\"user-set\">\n",
       "            <td><i class=\"copy-paste-icon\"\n",
       "                 onclick=\"copyToClipboard('probability',\n",
       "                          this.parentElement.nextElementSibling)\"\n",
       "            ></i></td>\n",
       "            <td class=\"param\">probability&nbsp;</td>\n",
       "            <td class=\"value\">True</td>\n",
       "        </tr>\n",
       "    \n",
       "\n",
       "        <tr class=\"default\">\n",
       "            <td><i class=\"copy-paste-icon\"\n",
       "                 onclick=\"copyToClipboard('tol',\n",
       "                          this.parentElement.nextElementSibling)\"\n",
       "            ></i></td>\n",
       "            <td class=\"param\">tol&nbsp;</td>\n",
       "            <td class=\"value\">0.001</td>\n",
       "        </tr>\n",
       "    \n",
       "\n",
       "        <tr class=\"default\">\n",
       "            <td><i class=\"copy-paste-icon\"\n",
       "                 onclick=\"copyToClipboard('cache_size',\n",
       "                          this.parentElement.nextElementSibling)\"\n",
       "            ></i></td>\n",
       "            <td class=\"param\">cache_size&nbsp;</td>\n",
       "            <td class=\"value\">200</td>\n",
       "        </tr>\n",
       "    \n",
       "\n",
       "        <tr class=\"default\">\n",
       "            <td><i class=\"copy-paste-icon\"\n",
       "                 onclick=\"copyToClipboard('class_weight',\n",
       "                          this.parentElement.nextElementSibling)\"\n",
       "            ></i></td>\n",
       "            <td class=\"param\">class_weight&nbsp;</td>\n",
       "            <td class=\"value\">None</td>\n",
       "        </tr>\n",
       "    \n",
       "\n",
       "        <tr class=\"default\">\n",
       "            <td><i class=\"copy-paste-icon\"\n",
       "                 onclick=\"copyToClipboard('verbose',\n",
       "                          this.parentElement.nextElementSibling)\"\n",
       "            ></i></td>\n",
       "            <td class=\"param\">verbose&nbsp;</td>\n",
       "            <td class=\"value\">False</td>\n",
       "        </tr>\n",
       "    \n",
       "\n",
       "        <tr class=\"default\">\n",
       "            <td><i class=\"copy-paste-icon\"\n",
       "                 onclick=\"copyToClipboard('max_iter',\n",
       "                          this.parentElement.nextElementSibling)\"\n",
       "            ></i></td>\n",
       "            <td class=\"param\">max_iter&nbsp;</td>\n",
       "            <td class=\"value\">-1</td>\n",
       "        </tr>\n",
       "    \n",
       "\n",
       "        <tr class=\"default\">\n",
       "            <td><i class=\"copy-paste-icon\"\n",
       "                 onclick=\"copyToClipboard('decision_function_shape',\n",
       "                          this.parentElement.nextElementSibling)\"\n",
       "            ></i></td>\n",
       "            <td class=\"param\">decision_function_shape&nbsp;</td>\n",
       "            <td class=\"value\">&#x27;ovr&#x27;</td>\n",
       "        </tr>\n",
       "    \n",
       "\n",
       "        <tr class=\"default\">\n",
       "            <td><i class=\"copy-paste-icon\"\n",
       "                 onclick=\"copyToClipboard('break_ties',\n",
       "                          this.parentElement.nextElementSibling)\"\n",
       "            ></i></td>\n",
       "            <td class=\"param\">break_ties&nbsp;</td>\n",
       "            <td class=\"value\">False</td>\n",
       "        </tr>\n",
       "    \n",
       "\n",
       "        <tr class=\"default\">\n",
       "            <td><i class=\"copy-paste-icon\"\n",
       "                 onclick=\"copyToClipboard('random_state',\n",
       "                          this.parentElement.nextElementSibling)\"\n",
       "            ></i></td>\n",
       "            <td class=\"param\">random_state&nbsp;</td>\n",
       "            <td class=\"value\">None</td>\n",
       "        </tr>\n",
       "    \n",
       "                  </tbody>\n",
       "                </table>\n",
       "            </details>\n",
       "        </div>\n",
       "    </div></div></div></div></div><script>function copyToClipboard(text, element) {\n",
       "    // Get the parameter prefix from the closest toggleable content\n",
       "    const toggleableContent = element.closest('.sk-toggleable__content');\n",
       "    const paramPrefix = toggleableContent ? toggleableContent.dataset.paramPrefix : '';\n",
       "    const fullParamName = paramPrefix ? `${paramPrefix}${text}` : text;\n",
       "\n",
       "    const originalStyle = element.style;\n",
       "    const computedStyle = window.getComputedStyle(element);\n",
       "    const originalWidth = computedStyle.width;\n",
       "    const originalHTML = element.innerHTML.replace('Copied!', '');\n",
       "\n",
       "    navigator.clipboard.writeText(fullParamName)\n",
       "        .then(() => {\n",
       "            element.style.width = originalWidth;\n",
       "            element.style.color = 'green';\n",
       "            element.innerHTML = \"Copied!\";\n",
       "\n",
       "            setTimeout(() => {\n",
       "                element.innerHTML = originalHTML;\n",
       "                element.style = originalStyle;\n",
       "            }, 2000);\n",
       "        })\n",
       "        .catch(err => {\n",
       "            console.error('Failed to copy:', err);\n",
       "            element.style.color = 'red';\n",
       "            element.innerHTML = \"Failed!\";\n",
       "            setTimeout(() => {\n",
       "                element.innerHTML = originalHTML;\n",
       "                element.style = originalStyle;\n",
       "            }, 2000);\n",
       "        });\n",
       "    return false;\n",
       "}\n",
       "\n",
       "document.querySelectorAll('.fa-regular.fa-copy').forEach(function(element) {\n",
       "    const toggleableContent = element.closest('.sk-toggleable__content');\n",
       "    const paramPrefix = toggleableContent ? toggleableContent.dataset.paramPrefix : '';\n",
       "    const paramName = element.parentElement.nextElementSibling.textContent.trim();\n",
       "    const fullParamName = paramPrefix ? `${paramPrefix}${paramName}` : paramName;\n",
       "\n",
       "    element.setAttribute('title', fullParamName);\n",
       "});\n",
       "</script></body>"
      ],
      "text/plain": [
       "SVC(kernel='linear', probability=True)"
      ]
     },
     "execution_count": 13,
     "metadata": {},
     "output_type": "execute_result"
    }
   ],
   "source": [
    "# Train SVM \n",
    "svm = SVC(kernel='linear', probability=True)\n",
    "svm.fit(X_tfidf, train_with_candidates['Category_clean'])"
   ]
  },
  {
   "cell_type": "markdown",
   "id": "faa9b9ce",
   "metadata": {},
   "source": [
    "### Prediction"
   ]
  },
  {
   "cell_type": "code",
   "execution_count": 14,
   "metadata": {},
   "outputs": [],
   "source": [
    "# Prediction with candidate filtering\n",
    "def predict_with_candidates(model, X_vec, candidate_lists):\n",
    "    predictions = []\n",
    "    for i, x in enumerate(X_vec):\n",
    "        probs = model.predict_proba(x)\n",
    "        classes = model.classes_\n",
    "        candidate_classes = candidate_lists[i]\n",
    "        if candidate_classes:  # filter by candidates\n",
    "            mask = [cls in candidate_classes for cls in classes]\n",
    "            filtered_probs = probs[0][mask]\n",
    "            filtered_classes = [cls for cls in classes if cls in candidate_classes]\n",
    "            pred = filtered_classes[filtered_probs.argmax()]\n",
    "        else:  # fallback to all classes\n",
    "            pred = classes[probs[0].argmax()]\n",
    "        predictions.append(pred)\n",
    "    return predictions"
   ]
  },
  {
   "cell_type": "code",
   "execution_count": 15,
   "id": "7845913a",
   "metadata": {},
   "outputs": [],
   "source": [
    "# Prediction on train\n",
    "X_vecs = [vectorizer.transform([x]) for x in train_with_candidates['Product_clean']]\n",
    "y_pred_train = predict_with_candidates(svm, X_vecs, train_with_candidates['Candidate_categories'].tolist())"
   ]
  },
  {
   "cell_type": "code",
   "execution_count": 16,
   "id": "5ad289db",
   "metadata": {},
   "outputs": [],
   "source": [
    "# Prediction on test\n",
    "X_vecs = [vectorizer.transform([x]) for x in test_with_candidates['Product_clean']]\n",
    "y_pred_test = predict_with_candidates(svm, X_vecs, test_with_candidates['Candidate_categories'].tolist())"
   ]
  },
  {
   "cell_type": "code",
   "execution_count": 17,
   "id": "774b09ac",
   "metadata": {},
   "outputs": [],
   "source": [
    "train_with_candidates['Category_predicted'] = y_pred_train\n",
    "test_with_candidates['Category_predicted'] = y_pred_test"
   ]
  },
  {
   "cell_type": "markdown",
   "id": "c79a05bb",
   "metadata": {},
   "source": [
    "### Evaluation"
   ]
  },
  {
   "cell_type": "code",
   "execution_count": 21,
   "metadata": {},
   "outputs": [
    {
     "name": "stdout",
     "output_type": "stream",
     "text": [
      "Accuarcy on train data 0.31\n"
     ]
    }
   ],
   "source": [
    "# On train data\n",
    "\n",
    "trainDf_Cleaned = pd.read_excel('data/train_cleaned.xlsx') \n",
    "train_accuarcy = Evaluate(trainDf_Cleaned,train_with_candidates[[\"Product_clean\", \"Category_predicted\"]])\n",
    "print(\"Accuarcy on train data\",round(train_accuarcy,2))\n"
   ]
  },
  {
   "cell_type": "code",
   "execution_count": 22,
   "metadata": {},
   "outputs": [
    {
     "name": "stdout",
     "output_type": "stream",
     "text": [
      "Accuarcy on test data 0.31\n"
     ]
    }
   ],
   "source": [
    "# On test data\n",
    "\n",
    "testDf_Cleaned = pd.read_excel('data/test_cleaned.xlsx') \n",
    "test_accuarcy = Evaluate(testDf_Cleaned,test_with_candidates[[\"Product_clean\", \"Category_predicted\"]])\n",
    "print(\"Accuarcy on test data\",round(test_accuarcy,2))\n"
   ]
  },
  {
   "cell_type": "code",
   "execution_count": null,
   "metadata": {},
   "outputs": [],
   "source": []
  }
 ],
 "metadata": {
  "kernelspec": {
   "display_name": "test-technique-chemosens",
   "language": "python",
   "name": "python3"
  },
  "language_info": {
   "codemirror_mode": {
    "name": "ipython",
    "version": 3
   },
   "file_extension": ".py",
   "mimetype": "text/x-python",
   "name": "python",
   "nbconvert_exporter": "python",
   "pygments_lexer": "ipython3",
   "version": "3.10.16"
  }
 },
 "nbformat": 4,
 "nbformat_minor": 5
}
